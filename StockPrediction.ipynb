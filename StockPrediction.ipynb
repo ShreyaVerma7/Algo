{
  "nbformat": 4,
  "nbformat_minor": 0,
  "metadata": {
    "kernelspec": {
      "display_name": "Python 3",
      "language": "python",
      "name": "python3"
    },
    "language_info": {
      "codemirror_mode": {
        "name": "ipython",
        "version": 3
      },
      "file_extension": ".py",
      "mimetype": "text/x-python",
      "name": "python",
      "nbconvert_exporter": "python",
      "pygments_lexer": "ipython3",
      "version": "3.7.3"
    },
    "colab": {
      "name": "StockPrediction.ipynb",
      "provenance": [],
      "include_colab_link": true
    }
  },
  "cells": [
    {
      "cell_type": "markdown",
      "metadata": {
        "id": "view-in-github",
        "colab_type": "text"
      },
      "source": [
        "<a href=\"https://colab.research.google.com/github/ShreyaVerma7/Algo/blob/master/StockPrediction.ipynb\" target=\"_parent\"><img src=\"https://colab.research.google.com/assets/colab-badge.svg\" alt=\"Open In Colab\"/></a>"
      ]
    },
    {
      "cell_type": "code",
      "metadata": {
        "id": "PxxHshOJiy6m",
        "colab_type": "code",
        "colab": {}
      },
      "source": [
        "import os\n",
        "import warnings\n",
        "warnings.filterwarnings('ignore')\n",
        "import numpy as np\n",
        "import pandas as pd\n",
        "import matplotlib.pyplot as plt\n",
        "plt.style.use('fivethirtyeight')\n",
        "from pylab import rcParams\n",
        "rcParams['figure.figsize'] = 10, 6\n",
        "from statsmodels.tsa.stattools import adfuller\n",
        "from statsmodels.tsa.seasonal import seasonal_decompose\n",
        "from sklearn.metrics import mean_squared_error, mean_absolute_error\n",
        "import math\n",
        "import numpy as np\n",
        "import seaborn as sns\n",
        "from sklearn import preprocessing"
      ],
      "execution_count": 1,
      "outputs": []
    },
    {
      "cell_type": "code",
      "metadata": {
        "id": "RiAsi9b8iy6r",
        "colab_type": "code",
        "colab": {}
      },
      "source": [
        "dateparse = lambda dates: pd.datetime.strptime(dates, '%Y.%m.%d %H:%M:%S')"
      ],
      "execution_count": 2,
      "outputs": []
    },
    {
      "cell_type": "code",
      "metadata": {
        "id": "XI2lKaQxiy6w",
        "colab_type": "code",
        "colab": {
          "resources": {
            "http://localhost:8080/nbextensions/google.colab/files.js": {
              "data": "Ly8gQ29weXJpZ2h0IDIwMTcgR29vZ2xlIExMQwovLwovLyBMaWNlbnNlZCB1bmRlciB0aGUgQXBhY2hlIExpY2Vuc2UsIFZlcnNpb24gMi4wICh0aGUgIkxpY2Vuc2UiKTsKLy8geW91IG1heSBub3QgdXNlIHRoaXMgZmlsZSBleGNlcHQgaW4gY29tcGxpYW5jZSB3aXRoIHRoZSBMaWNlbnNlLgovLyBZb3UgbWF5IG9idGFpbiBhIGNvcHkgb2YgdGhlIExpY2Vuc2UgYXQKLy8KLy8gICAgICBodHRwOi8vd3d3LmFwYWNoZS5vcmcvbGljZW5zZXMvTElDRU5TRS0yLjAKLy8KLy8gVW5sZXNzIHJlcXVpcmVkIGJ5IGFwcGxpY2FibGUgbGF3IG9yIGFncmVlZCB0byBpbiB3cml0aW5nLCBzb2Z0d2FyZQovLyBkaXN0cmlidXRlZCB1bmRlciB0aGUgTGljZW5zZSBpcyBkaXN0cmlidXRlZCBvbiBhbiAiQVMgSVMiIEJBU0lTLAovLyBXSVRIT1VUIFdBUlJBTlRJRVMgT1IgQ09ORElUSU9OUyBPRiBBTlkgS0lORCwgZWl0aGVyIGV4cHJlc3Mgb3IgaW1wbGllZC4KLy8gU2VlIHRoZSBMaWNlbnNlIGZvciB0aGUgc3BlY2lmaWMgbGFuZ3VhZ2UgZ292ZXJuaW5nIHBlcm1pc3Npb25zIGFuZAovLyBsaW1pdGF0aW9ucyB1bmRlciB0aGUgTGljZW5zZS4KCi8qKgogKiBAZmlsZW92ZXJ2aWV3IEhlbHBlcnMgZm9yIGdvb2dsZS5jb2xhYiBQeXRob24gbW9kdWxlLgogKi8KKGZ1bmN0aW9uKHNjb3BlKSB7CmZ1bmN0aW9uIHNwYW4odGV4dCwgc3R5bGVBdHRyaWJ1dGVzID0ge30pIHsKICBjb25zdCBlbGVtZW50ID0gZG9jdW1lbnQuY3JlYXRlRWxlbWVudCgnc3BhbicpOwogIGVsZW1lbnQudGV4dENvbnRlbnQgPSB0ZXh0OwogIGZvciAoY29uc3Qga2V5IG9mIE9iamVjdC5rZXlzKHN0eWxlQXR0cmlidXRlcykpIHsKICAgIGVsZW1lbnQuc3R5bGVba2V5XSA9IHN0eWxlQXR0cmlidXRlc1trZXldOwogIH0KICByZXR1cm4gZWxlbWVudDsKfQoKLy8gTWF4IG51bWJlciBvZiBieXRlcyB3aGljaCB3aWxsIGJlIHVwbG9hZGVkIGF0IGEgdGltZS4KY29uc3QgTUFYX1BBWUxPQURfU0laRSA9IDEwMCAqIDEwMjQ7CgpmdW5jdGlvbiBfdXBsb2FkRmlsZXMoaW5wdXRJZCwgb3V0cHV0SWQpIHsKICBjb25zdCBzdGVwcyA9IHVwbG9hZEZpbGVzU3RlcChpbnB1dElkLCBvdXRwdXRJZCk7CiAgY29uc3Qgb3V0cHV0RWxlbWVudCA9IGRvY3VtZW50LmdldEVsZW1lbnRCeUlkKG91dHB1dElkKTsKICAvLyBDYWNoZSBzdGVwcyBvbiB0aGUgb3V0cHV0RWxlbWVudCB0byBtYWtlIGl0IGF2YWlsYWJsZSBmb3IgdGhlIG5leHQgY2FsbAogIC8vIHRvIHVwbG9hZEZpbGVzQ29udGludWUgZnJvbSBQeXRob24uCiAgb3V0cHV0RWxlbWVudC5zdGVwcyA9IHN0ZXBzOwoKICByZXR1cm4gX3VwbG9hZEZpbGVzQ29udGludWUob3V0cHV0SWQpOwp9CgovLyBUaGlzIGlzIHJvdWdobHkgYW4gYXN5bmMgZ2VuZXJhdG9yIChub3Qgc3VwcG9ydGVkIGluIHRoZSBicm93c2VyIHlldCksCi8vIHdoZXJlIHRoZXJlIGFyZSBtdWx0aXBsZSBhc3luY2hyb25vdXMgc3RlcHMgYW5kIHRoZSBQeXRob24gc2lkZSBpcyBnb2luZwovLyB0byBwb2xsIGZvciBjb21wbGV0aW9uIG9mIGVhY2ggc3RlcC4KLy8gVGhpcyB1c2VzIGEgUHJvbWlzZSB0byBibG9jayB0aGUgcHl0aG9uIHNpZGUgb24gY29tcGxldGlvbiBvZiBlYWNoIHN0ZXAsCi8vIHRoZW4gcGFzc2VzIHRoZSByZXN1bHQgb2YgdGhlIHByZXZpb3VzIHN0ZXAgYXMgdGhlIGlucHV0IHRvIHRoZSBuZXh0IHN0ZXAuCmZ1bmN0aW9uIF91cGxvYWRGaWxlc0NvbnRpbnVlKG91dHB1dElkKSB7CiAgY29uc3Qgb3V0cHV0RWxlbWVudCA9IGRvY3VtZW50LmdldEVsZW1lbnRCeUlkKG91dHB1dElkKTsKICBjb25zdCBzdGVwcyA9IG91dHB1dEVsZW1lbnQuc3RlcHM7CgogIGNvbnN0IG5leHQgPSBzdGVwcy5uZXh0KG91dHB1dEVsZW1lbnQubGFzdFByb21pc2VWYWx1ZSk7CiAgcmV0dXJuIFByb21pc2UucmVzb2x2ZShuZXh0LnZhbHVlLnByb21pc2UpLnRoZW4oKHZhbHVlKSA9PiB7CiAgICAvLyBDYWNoZSB0aGUgbGFzdCBwcm9taXNlIHZhbHVlIHRvIG1ha2UgaXQgYXZhaWxhYmxlIHRvIHRoZSBuZXh0CiAgICAvLyBzdGVwIG9mIHRoZSBnZW5lcmF0b3IuCiAgICBvdXRwdXRFbGVtZW50Lmxhc3RQcm9taXNlVmFsdWUgPSB2YWx1ZTsKICAgIHJldHVybiBuZXh0LnZhbHVlLnJlc3BvbnNlOwogIH0pOwp9CgovKioKICogR2VuZXJhdG9yIGZ1bmN0aW9uIHdoaWNoIGlzIGNhbGxlZCBiZXR3ZWVuIGVhY2ggYXN5bmMgc3RlcCBvZiB0aGUgdXBsb2FkCiAqIHByb2Nlc3MuCiAqIEBwYXJhbSB7c3RyaW5nfSBpbnB1dElkIEVsZW1lbnQgSUQgb2YgdGhlIGlucHV0IGZpbGUgcGlja2VyIGVsZW1lbnQuCiAqIEBwYXJhbSB7c3RyaW5nfSBvdXRwdXRJZCBFbGVtZW50IElEIG9mIHRoZSBvdXRwdXQgZGlzcGxheS4KICogQHJldHVybiB7IUl0ZXJhYmxlPCFPYmplY3Q+fSBJdGVyYWJsZSBvZiBuZXh0IHN0ZXBzLgogKi8KZnVuY3Rpb24qIHVwbG9hZEZpbGVzU3RlcChpbnB1dElkLCBvdXRwdXRJZCkgewogIGNvbnN0IGlucHV0RWxlbWVudCA9IGRvY3VtZW50LmdldEVsZW1lbnRCeUlkKGlucHV0SWQpOwogIGlucHV0RWxlbWVudC5kaXNhYmxlZCA9IGZhbHNlOwoKICBjb25zdCBvdXRwdXRFbGVtZW50ID0gZG9jdW1lbnQuZ2V0RWxlbWVudEJ5SWQob3V0cHV0SWQpOwogIG91dHB1dEVsZW1lbnQuaW5uZXJIVE1MID0gJyc7CgogIGNvbnN0IHBpY2tlZFByb21pc2UgPSBuZXcgUHJvbWlzZSgocmVzb2x2ZSkgPT4gewogICAgaW5wdXRFbGVtZW50LmFkZEV2ZW50TGlzdGVuZXIoJ2NoYW5nZScsIChlKSA9PiB7CiAgICAgIHJlc29sdmUoZS50YXJnZXQuZmlsZXMpOwogICAgfSk7CiAgfSk7CgogIGNvbnN0IGNhbmNlbCA9IGRvY3VtZW50LmNyZWF0ZUVsZW1lbnQoJ2J1dHRvbicpOwogIGlucHV0RWxlbWVudC5wYXJlbnRFbGVtZW50LmFwcGVuZENoaWxkKGNhbmNlbCk7CiAgY2FuY2VsLnRleHRDb250ZW50ID0gJ0NhbmNlbCB1cGxvYWQnOwogIGNvbnN0IGNhbmNlbFByb21pc2UgPSBuZXcgUHJvbWlzZSgocmVzb2x2ZSkgPT4gewogICAgY2FuY2VsLm9uY2xpY2sgPSAoKSA9PiB7CiAgICAgIHJlc29sdmUobnVsbCk7CiAgICB9OwogIH0pOwoKICAvLyBXYWl0IGZvciB0aGUgdXNlciB0byBwaWNrIHRoZSBmaWxlcy4KICBjb25zdCBmaWxlcyA9IHlpZWxkIHsKICAgIHByb21pc2U6IFByb21pc2UucmFjZShbcGlja2VkUHJvbWlzZSwgY2FuY2VsUHJvbWlzZV0pLAogICAgcmVzcG9uc2U6IHsKICAgICAgYWN0aW9uOiAnc3RhcnRpbmcnLAogICAgfQogIH07CgogIGNhbmNlbC5yZW1vdmUoKTsKCiAgLy8gRGlzYWJsZSB0aGUgaW5wdXQgZWxlbWVudCBzaW5jZSBmdXJ0aGVyIHBpY2tzIGFyZSBub3QgYWxsb3dlZC4KICBpbnB1dEVsZW1lbnQuZGlzYWJsZWQgPSB0cnVlOwoKICBpZiAoIWZpbGVzKSB7CiAgICByZXR1cm4gewogICAgICByZXNwb25zZTogewogICAgICAgIGFjdGlvbjogJ2NvbXBsZXRlJywKICAgICAgfQogICAgfTsKICB9CgogIGZvciAoY29uc3QgZmlsZSBvZiBmaWxlcykgewogICAgY29uc3QgbGkgPSBkb2N1bWVudC5jcmVhdGVFbGVtZW50KCdsaScpOwogICAgbGkuYXBwZW5kKHNwYW4oZmlsZS5uYW1lLCB7Zm9udFdlaWdodDogJ2JvbGQnfSkpOwogICAgbGkuYXBwZW5kKHNwYW4oCiAgICAgICAgYCgke2ZpbGUudHlwZSB8fCAnbi9hJ30pIC0gJHtmaWxlLnNpemV9IGJ5dGVzLCBgICsKICAgICAgICBgbGFzdCBtb2RpZmllZDogJHsKICAgICAgICAgICAgZmlsZS5sYXN0TW9kaWZpZWREYXRlID8gZmlsZS5sYXN0TW9kaWZpZWREYXRlLnRvTG9jYWxlRGF0ZVN0cmluZygpIDoKICAgICAgICAgICAgICAgICAgICAgICAgICAgICAgICAgICAgJ24vYSd9IC0gYCkpOwogICAgY29uc3QgcGVyY2VudCA9IHNwYW4oJzAlIGRvbmUnKTsKICAgIGxpLmFwcGVuZENoaWxkKHBlcmNlbnQpOwoKICAgIG91dHB1dEVsZW1lbnQuYXBwZW5kQ2hpbGQobGkpOwoKICAgIGNvbnN0IGZpbGVEYXRhUHJvbWlzZSA9IG5ldyBQcm9taXNlKChyZXNvbHZlKSA9PiB7CiAgICAgIGNvbnN0IHJlYWRlciA9IG5ldyBGaWxlUmVhZGVyKCk7CiAgICAgIHJlYWRlci5vbmxvYWQgPSAoZSkgPT4gewogICAgICAgIHJlc29sdmUoZS50YXJnZXQucmVzdWx0KTsKICAgICAgfTsKICAgICAgcmVhZGVyLnJlYWRBc0FycmF5QnVmZmVyKGZpbGUpOwogICAgfSk7CiAgICAvLyBXYWl0IGZvciB0aGUgZGF0YSB0byBiZSByZWFkeS4KICAgIGxldCBmaWxlRGF0YSA9IHlpZWxkIHsKICAgICAgcHJvbWlzZTogZmlsZURhdGFQcm9taXNlLAogICAgICByZXNwb25zZTogewogICAgICAgIGFjdGlvbjogJ2NvbnRpbnVlJywKICAgICAgfQogICAgfTsKCiAgICAvLyBVc2UgYSBjaHVua2VkIHNlbmRpbmcgdG8gYXZvaWQgbWVzc2FnZSBzaXplIGxpbWl0cy4gU2VlIGIvNjIxMTU2NjAuCiAgICBsZXQgcG9zaXRpb24gPSAwOwogICAgd2hpbGUgKHBvc2l0aW9uIDwgZmlsZURhdGEuYnl0ZUxlbmd0aCkgewogICAgICBjb25zdCBsZW5ndGggPSBNYXRoLm1pbihmaWxlRGF0YS5ieXRlTGVuZ3RoIC0gcG9zaXRpb24sIE1BWF9QQVlMT0FEX1NJWkUpOwogICAgICBjb25zdCBjaHVuayA9IG5ldyBVaW50OEFycmF5KGZpbGVEYXRhLCBwb3NpdGlvbiwgbGVuZ3RoKTsKICAgICAgcG9zaXRpb24gKz0gbGVuZ3RoOwoKICAgICAgY29uc3QgYmFzZTY0ID0gYnRvYShTdHJpbmcuZnJvbUNoYXJDb2RlLmFwcGx5KG51bGwsIGNodW5rKSk7CiAgICAgIHlpZWxkIHsKICAgICAgICByZXNwb25zZTogewogICAgICAgICAgYWN0aW9uOiAnYXBwZW5kJywKICAgICAgICAgIGZpbGU6IGZpbGUubmFtZSwKICAgICAgICAgIGRhdGE6IGJhc2U2NCwKICAgICAgICB9LAogICAgICB9OwogICAgICBwZXJjZW50LnRleHRDb250ZW50ID0KICAgICAgICAgIGAke01hdGgucm91bmQoKHBvc2l0aW9uIC8gZmlsZURhdGEuYnl0ZUxlbmd0aCkgKiAxMDApfSUgZG9uZWA7CiAgICB9CiAgfQoKICAvLyBBbGwgZG9uZS4KICB5aWVsZCB7CiAgICByZXNwb25zZTogewogICAgICBhY3Rpb246ICdjb21wbGV0ZScsCiAgICB9CiAgfTsKfQoKc2NvcGUuZ29vZ2xlID0gc2NvcGUuZ29vZ2xlIHx8IHt9OwpzY29wZS5nb29nbGUuY29sYWIgPSBzY29wZS5nb29nbGUuY29sYWIgfHwge307CnNjb3BlLmdvb2dsZS5jb2xhYi5fZmlsZXMgPSB7CiAgX3VwbG9hZEZpbGVzLAogIF91cGxvYWRGaWxlc0NvbnRpbnVlLAp9Owp9KShzZWxmKTsK",
              "ok": true,
              "headers": [
                [
                  "content-type",
                  "application/javascript"
                ]
              ],
              "status": 200,
              "status_text": ""
            }
          },
          "base_uri": "https://localhost:8080/",
          "height": 73
        },
        "outputId": "d23adbb2-82dd-4747-cc84-98c00b0d8b2a"
      },
      "source": [
        "from google.colab import files\n",
        "uploaded = files.upload()\n",
        "df_aud = pd.read_csv('AUDUSD_4 Hours_Ask_2003.08.03_2020.03.12.csv', parse_dates=['Time (UTC)'], date_parser=dateparse)"
      ],
      "execution_count": 4,
      "outputs": [
        {
          "output_type": "display_data",
          "data": {
            "text/html": [
              "\n",
              "     <input type=\"file\" id=\"files-07c68fe3-39c9-48f1-8747-4c3cbdb3a9d4\" name=\"files[]\" multiple disabled\n",
              "        style=\"border:none\" />\n",
              "     <output id=\"result-07c68fe3-39c9-48f1-8747-4c3cbdb3a9d4\">\n",
              "      Upload widget is only available when the cell has been executed in the\n",
              "      current browser session. Please rerun this cell to enable.\n",
              "      </output>\n",
              "      <script src=\"/nbextensions/google.colab/files.js\"></script> "
            ],
            "text/plain": [
              "<IPython.core.display.HTML object>"
            ]
          },
          "metadata": {
            "tags": []
          }
        },
        {
          "output_type": "stream",
          "text": [
            "Saving AUDUSD_4 Hours_Ask_2003.08.03_2020.03.12.csv to AUDUSD_4 Hours_Ask_2003.08.03_2020.03.12.csv\n"
          ],
          "name": "stdout"
        }
      ]
    },
    {
      "cell_type": "code",
      "metadata": {
        "id": "fIk1GZ05iy6z",
        "colab_type": "code",
        "colab": {}
      },
      "source": [
        "#d_aud = df_aud.copy()"
      ],
      "execution_count": null,
      "outputs": []
    },
    {
      "cell_type": "code",
      "metadata": {
        "id": "H9znW9BOiy62",
        "colab_type": "code",
        "colab": {}
      },
      "source": [
        "df_aud['Time (UTC)'] = pd.to_datetime(df_aud['Time (UTC)'])\n",
        "df_aud = df_aud.set_index('Time (UTC)')"
      ],
      "execution_count": 5,
      "outputs": []
    },
    {
      "cell_type": "code",
      "metadata": {
        "id": "EYqc88oXiy66",
        "colab_type": "code",
        "colab": {}
      },
      "source": [
        "df_aud['Volatility'] = df_aud['High']/df_aud['Low']\n",
        "df_aud['Volatility'] = np.log(df_aud['Volatility'])\n",
        "#df_aud.dropna(inplace=True)\n",
        "#print(df_aud.head())\n",
        "#print()\n",
        "#print(df_aud.describe())\n",
        "#print()\n",
        "#print(df_aud.info())"
      ],
      "execution_count": 6,
      "outputs": []
    },
    {
      "cell_type": "code",
      "metadata": {
        "id": "uGQSVwuPiy6_",
        "colab_type": "code",
        "colab": {}
      },
      "source": [
        "df_aud['Adj_Volume'] = df_aud['Volume ']/(np.average(df_aud[:-10]['Volume ']))\n",
        "#df_aud.head()"
      ],
      "execution_count": 7,
      "outputs": []
    },
    {
      "cell_type": "code",
      "metadata": {
        "scrolled": true,
        "id": "9TbkBNJIiy7D",
        "colab_type": "code",
        "colab": {}
      },
      "source": [
        "import datetime\n",
        "from datetime import timedelta, date\n",
        "\n",
        "def daterange(start_date, end_date):\n",
        "    for n in range(int ((end_date - start_date).days)):\n",
        "        yield start_date + timedelta(n)\n",
        "\n",
        "X = []\n",
        "y = []\n",
        "cnt = []\n",
        "start = datetime.datetime(year=2003,month=8,day=3)\n",
        "end = datetime.datetime(year=2020,month=3,day=12)\n",
        "for single_date in daterange(start, end+timedelta(1)):\n",
        "    if single_date.strftime(\"%Y-%m-%d\") in df_aud.index:\n",
        "        curr = single_date.strftime(\"%Y-%m-%d\")\n",
        "        Xdelta = []\n",
        "        for i in range(0,df_aud.loc[curr].shape[0]):\n",
        "            for j in range(0,5):\n",
        "                Xdelta.append(df_aud.loc[curr].iloc[i][j])\n",
        "            \n",
        "#        print(curr,' ',len(Xdelta))\n",
        "        if(len(Xdelta)==30):\n",
        "            cnt.append(len(Xdelta)/5)\n",
        "            X.append(Xdelta)\n",
        "            y.append(df_aud.loc[curr].Close)"
      ],
      "execution_count": null,
      "outputs": []
    },
    {
      "cell_type": "code",
      "metadata": {
        "id": "MXbKhQRbiy7G",
        "colab_type": "code",
        "colab": {},
        "outputId": "ac46f483-e45a-4f36-fa7d-6d9738aa4aa5"
      },
      "source": [
        "print('Dimension of X:',len(X),'x',len(X[0]))\n",
        "print('Dimension of y:',len(y)) "
      ],
      "execution_count": null,
      "outputs": [
        {
          "output_type": "stream",
          "text": [
            "Dimension of X: 3449 x 30\n",
            "Dimension of y: 3449\n"
          ],
          "name": "stdout"
        }
      ]
    },
    {
      "cell_type": "code",
      "metadata": {
        "id": "pSEmvUt7iy7J",
        "colab_type": "code",
        "colab": {},
        "outputId": "8c801266-9f36-4618-b006-9e1709237f37"
      },
      "source": [
        "cols = []\n",
        "for i in range(0,6):\n",
        "    for j in range(0,5):\n",
        "        cols.append('f'+str(i)+str(j))\n",
        "len(cols)"
      ],
      "execution_count": null,
      "outputs": [
        {
          "output_type": "execute_result",
          "data": {
            "text/plain": [
              "30"
            ]
          },
          "metadata": {
            "tags": []
          },
          "execution_count": 30
        }
      ]
    },
    {
      "cell_type": "code",
      "metadata": {
        "id": "BZmsmQ38iy7M",
        "colab_type": "code",
        "colab": {}
      },
      "source": [
        "def createFeatures(dataset,column):\n",
        "    \n",
        "    #Target variable construction\n",
        "\n",
        "    dataset['H-L'] = dataset['High'].shift(1) - dataset['Low'].shift(1)\n",
        "    dataset['O-L'] = dataset['Open'].shift(1) - dataset['Low'].shift(1)\n",
        "    dataset['C-L'] = dataset['Close'].shift(1) - dataset['Low'].shift(1)\n",
        "    dataset['H-O'] = dataset['High'].shift(1) - dataset['Open'].shift(1)\n",
        "    dataset['H-C'] = dataset['High'].shift(1) - dataset['Close'].shift(1)\n",
        "    dataset['O-C'] = dataset['Open'].shift(1) - dataset['Close'].shift(1)\n",
        "    #technical indicators\n",
        "    dataset['ATR'] = talib.ATR(dataset['High'].shift(1).values, dataset['Low'].shift(1).values, dataset['Close'].shift(1).values, timeperiod=20)\n",
        "    dataset['ADX'] = talib.ADX(dataset['High'].shift(1).values, dataset['Low'].shift(1).values, dataset['Close'].shift(1).values, timeperiod=5)\n",
        "    dataset['RSI'] = talib.RSI(dataset['Close'].shift(1).values, timeperiod = 10)\n",
        "    dataset['ADOSC'] = talib.ADOSC(dataset['High'].shift(1).values, dataset['Low'].shift(1).values,dataset['Close'].shift(1).values,np.asarray(dataset['Volume'].shift(1).values,dtype='float'), fastperiod=5, slowperiod=20)\n",
        "    \n",
        "    dataset['BB_Upper'], dataset['BB_Middle'], dataset['BB_Lower'] = talib.BBANDS(dataset['Close'].shift(1).values, timeperiod=20)\n",
        "    dataset['CCI'] = talib.CCI(dataset['High'].shift(1).values, dataset['Low'].shift(1).values, dataset['Close'].shift(1).values, timeperiod=20)\n",
        "    dataset['ROC'] = talib.ROC(dataset['Close'].shift(1).values, timeperiod=5)\n",
        "    days_list = [5,10,50,100,200]\n",
        "    dataset['FI_1'] = FORCE(dataset,1)\n",
        "    dataset['FI_3'] = FORCE(dataset,3)\n",
        "    dataset['FI_5'] = FORCE(dataset,5)\n",
        "    for days in days_list:\n",
        "        dataset['sma_%s' % days] = dataset['Close'].shift(1).rolling(window = days).mean()\n",
        "        dataset['ewma_%s' % days]  = talib.EMA(dataset['Close'].shift(1).values,days)\n",
        "    \n",
        "    return dataset\n",
        "\n",
        "def FORCE(dataset, n):  \n",
        "    F = pd.Series(dataset['Close'].shift(1).diff(n) * dataset['Volume'].shift(1).diff(n), name = 'Force_' + str(n))  \n",
        "    return F"
      ],
      "execution_count": null,
      "outputs": []
    },
    {
      "cell_type": "code",
      "metadata": {
        "id": "P-zoxedJiy7Q",
        "colab_type": "code",
        "colab": {}
      },
      "source": [
        "#df_aud['Log(Vol)'] = np.log(df_aud['Volume '])\n",
        "#df_aud.head()"
      ],
      "execution_count": null,
      "outputs": []
    },
    {
      "cell_type": "code",
      "metadata": {
        "scrolled": false,
        "id": "jMk3Lecxiy7U",
        "colab_type": "code",
        "colab": {
          "base_uri": "https://localhost:8080/",
          "height": 233
        },
        "outputId": "a4d95c9a-ae93-4fec-b8fa-31a7adcde561"
      },
      "source": [
        "df_aud['R_Close'] = df_aud['Close'] - df_aud['Close'].shift(1)\n",
        "df_aud['R_Open'] = df_aud['Open'] - df_aud['Open'].shift(1)\n",
        "df_aud['R_High'] = df_aud['High'] - df_aud['High'].shift(1)\n",
        "df_aud['R_Low'] = df_aud['Low'] - df_aud['Low'].shift(1)\n",
        "#df_aud.dropna(inplace=True)\n",
        "df_aud.head()"
      ],
      "execution_count": 8,
      "outputs": [
        {
          "output_type": "execute_result",
          "data": {
            "text/html": [
              "<div>\n",
              "<style scoped>\n",
              "    .dataframe tbody tr th:only-of-type {\n",
              "        vertical-align: middle;\n",
              "    }\n",
              "\n",
              "    .dataframe tbody tr th {\n",
              "        vertical-align: top;\n",
              "    }\n",
              "\n",
              "    .dataframe thead th {\n",
              "        text-align: right;\n",
              "    }\n",
              "</style>\n",
              "<table border=\"1\" class=\"dataframe\">\n",
              "  <thead>\n",
              "    <tr style=\"text-align: right;\">\n",
              "      <th></th>\n",
              "      <th>Open</th>\n",
              "      <th>High</th>\n",
              "      <th>Low</th>\n",
              "      <th>Close</th>\n",
              "      <th>Volume</th>\n",
              "      <th>Volatility</th>\n",
              "      <th>Adj_Volume</th>\n",
              "      <th>R_Close</th>\n",
              "      <th>R_Open</th>\n",
              "      <th>R_High</th>\n",
              "      <th>R_Low</th>\n",
              "    </tr>\n",
              "    <tr>\n",
              "      <th>Time (UTC)</th>\n",
              "      <th></th>\n",
              "      <th></th>\n",
              "      <th></th>\n",
              "      <th></th>\n",
              "      <th></th>\n",
              "      <th></th>\n",
              "      <th></th>\n",
              "      <th></th>\n",
              "      <th></th>\n",
              "      <th></th>\n",
              "      <th></th>\n",
              "    </tr>\n",
              "  </thead>\n",
              "  <tbody>\n",
              "    <tr>\n",
              "      <th>2003-08-03 21:00:00</th>\n",
              "      <td>0.65152</td>\n",
              "      <td>0.65201</td>\n",
              "      <td>0.65084</td>\n",
              "      <td>0.65118</td>\n",
              "      <td>117353.684</td>\n",
              "      <td>0.001796</td>\n",
              "      <td>1.073772</td>\n",
              "      <td>NaN</td>\n",
              "      <td>NaN</td>\n",
              "      <td>NaN</td>\n",
              "      <td>NaN</td>\n",
              "    </tr>\n",
              "    <tr>\n",
              "      <th>2003-08-04 01:00:00</th>\n",
              "      <td>0.65118</td>\n",
              "      <td>0.65188</td>\n",
              "      <td>0.65019</td>\n",
              "      <td>0.65073</td>\n",
              "      <td>20091.570</td>\n",
              "      <td>0.002596</td>\n",
              "      <td>0.183835</td>\n",
              "      <td>-0.00045</td>\n",
              "      <td>-0.00034</td>\n",
              "      <td>-0.00013</td>\n",
              "      <td>-0.00065</td>\n",
              "    </tr>\n",
              "    <tr>\n",
              "      <th>2003-08-04 05:00:00</th>\n",
              "      <td>0.65100</td>\n",
              "      <td>0.65228</td>\n",
              "      <td>0.65085</td>\n",
              "      <td>0.65125</td>\n",
              "      <td>26433.980</td>\n",
              "      <td>0.002195</td>\n",
              "      <td>0.241868</td>\n",
              "      <td>0.00052</td>\n",
              "      <td>-0.00018</td>\n",
              "      <td>0.00040</td>\n",
              "      <td>0.00066</td>\n",
              "    </tr>\n",
              "    <tr>\n",
              "      <th>2003-08-04 09:00:00</th>\n",
              "      <td>0.65150</td>\n",
              "      <td>0.65192</td>\n",
              "      <td>0.64977</td>\n",
              "      <td>0.65045</td>\n",
              "      <td>43484.790</td>\n",
              "      <td>0.003303</td>\n",
              "      <td>0.397881</td>\n",
              "      <td>-0.00080</td>\n",
              "      <td>0.00050</td>\n",
              "      <td>-0.00036</td>\n",
              "      <td>-0.00108</td>\n",
              "    </tr>\n",
              "    <tr>\n",
              "      <th>2003-08-04 13:00:00</th>\n",
              "      <td>0.64978</td>\n",
              "      <td>0.65001</td>\n",
              "      <td>0.64572</td>\n",
              "      <td>0.64760</td>\n",
              "      <td>17907.410</td>\n",
              "      <td>0.006622</td>\n",
              "      <td>0.163851</td>\n",
              "      <td>-0.00285</td>\n",
              "      <td>-0.00172</td>\n",
              "      <td>-0.00191</td>\n",
              "      <td>-0.00405</td>\n",
              "    </tr>\n",
              "  </tbody>\n",
              "</table>\n",
              "</div>"
            ],
            "text/plain": [
              "                        Open     High      Low  ...   R_Open   R_High    R_Low\n",
              "Time (UTC)                                      ...                           \n",
              "2003-08-03 21:00:00  0.65152  0.65201  0.65084  ...      NaN      NaN      NaN\n",
              "2003-08-04 01:00:00  0.65118  0.65188  0.65019  ... -0.00034 -0.00013 -0.00065\n",
              "2003-08-04 05:00:00  0.65100  0.65228  0.65085  ... -0.00018  0.00040  0.00066\n",
              "2003-08-04 09:00:00  0.65150  0.65192  0.64977  ...  0.00050 -0.00036 -0.00108\n",
              "2003-08-04 13:00:00  0.64978  0.65001  0.64572  ... -0.00172 -0.00191 -0.00405\n",
              "\n",
              "[5 rows x 11 columns]"
            ]
          },
          "metadata": {
            "tags": []
          },
          "execution_count": 8
        }
      ]
    },
    {
      "cell_type": "code",
      "metadata": {
        "id": "ERsi8_ujiy7Y",
        "colab_type": "code",
        "colab": {
          "base_uri": "https://localhost:8080/",
          "height": 443
        },
        "outputId": "a2fc4213-babb-439d-dbcd-57a1ec64882b"
      },
      "source": [
        "df_aud['H-L'] = df_aud['High'].shift(1) - df_aud['Low'].shift(1)\n",
        "df_aud['O-L'] = df_aud['Open'].shift(1) - df_aud['Low'].shift(1)\n",
        "df_aud['C-L'] = df_aud['Close'].shift(1) - df_aud['Low'].shift(1)\n",
        "df_aud['H-O'] = df_aud['High'].shift(1) - df_aud['Open'].shift(1)\n",
        "df_aud['H-C'] = df_aud['High'].shift(1) - df_aud['Close'].shift(1)\n",
        "df_aud['O-C'] = df_aud['Open'].shift(1) - df_aud['Close'].shift(1)\n",
        "df_aud.head()"
      ],
      "execution_count": 9,
      "outputs": [
        {
          "output_type": "execute_result",
          "data": {
            "text/html": [
              "<div>\n",
              "<style scoped>\n",
              "    .dataframe tbody tr th:only-of-type {\n",
              "        vertical-align: middle;\n",
              "    }\n",
              "\n",
              "    .dataframe tbody tr th {\n",
              "        vertical-align: top;\n",
              "    }\n",
              "\n",
              "    .dataframe thead th {\n",
              "        text-align: right;\n",
              "    }\n",
              "</style>\n",
              "<table border=\"1\" class=\"dataframe\">\n",
              "  <thead>\n",
              "    <tr style=\"text-align: right;\">\n",
              "      <th></th>\n",
              "      <th>Open</th>\n",
              "      <th>High</th>\n",
              "      <th>Low</th>\n",
              "      <th>Close</th>\n",
              "      <th>Volume</th>\n",
              "      <th>Volatility</th>\n",
              "      <th>Adj_Volume</th>\n",
              "      <th>R_Close</th>\n",
              "      <th>R_Open</th>\n",
              "      <th>R_High</th>\n",
              "      <th>R_Low</th>\n",
              "      <th>H-L</th>\n",
              "      <th>O-L</th>\n",
              "      <th>C-L</th>\n",
              "      <th>H-O</th>\n",
              "      <th>H-C</th>\n",
              "      <th>O-C</th>\n",
              "    </tr>\n",
              "    <tr>\n",
              "      <th>Time (UTC)</th>\n",
              "      <th></th>\n",
              "      <th></th>\n",
              "      <th></th>\n",
              "      <th></th>\n",
              "      <th></th>\n",
              "      <th></th>\n",
              "      <th></th>\n",
              "      <th></th>\n",
              "      <th></th>\n",
              "      <th></th>\n",
              "      <th></th>\n",
              "      <th></th>\n",
              "      <th></th>\n",
              "      <th></th>\n",
              "      <th></th>\n",
              "      <th></th>\n",
              "      <th></th>\n",
              "    </tr>\n",
              "  </thead>\n",
              "  <tbody>\n",
              "    <tr>\n",
              "      <th>2003-08-03 21:00:00</th>\n",
              "      <td>0.65152</td>\n",
              "      <td>0.65201</td>\n",
              "      <td>0.65084</td>\n",
              "      <td>0.65118</td>\n",
              "      <td>117353.684</td>\n",
              "      <td>0.001796</td>\n",
              "      <td>1.073772</td>\n",
              "      <td>NaN</td>\n",
              "      <td>NaN</td>\n",
              "      <td>NaN</td>\n",
              "      <td>NaN</td>\n",
              "      <td>NaN</td>\n",
              "      <td>NaN</td>\n",
              "      <td>NaN</td>\n",
              "      <td>NaN</td>\n",
              "      <td>NaN</td>\n",
              "      <td>NaN</td>\n",
              "    </tr>\n",
              "    <tr>\n",
              "      <th>2003-08-04 01:00:00</th>\n",
              "      <td>0.65118</td>\n",
              "      <td>0.65188</td>\n",
              "      <td>0.65019</td>\n",
              "      <td>0.65073</td>\n",
              "      <td>20091.570</td>\n",
              "      <td>0.002596</td>\n",
              "      <td>0.183835</td>\n",
              "      <td>-0.00045</td>\n",
              "      <td>-0.00034</td>\n",
              "      <td>-0.00013</td>\n",
              "      <td>-0.00065</td>\n",
              "      <td>0.00117</td>\n",
              "      <td>0.00068</td>\n",
              "      <td>0.00034</td>\n",
              "      <td>0.00049</td>\n",
              "      <td>0.00083</td>\n",
              "      <td>0.00034</td>\n",
              "    </tr>\n",
              "    <tr>\n",
              "      <th>2003-08-04 05:00:00</th>\n",
              "      <td>0.65100</td>\n",
              "      <td>0.65228</td>\n",
              "      <td>0.65085</td>\n",
              "      <td>0.65125</td>\n",
              "      <td>26433.980</td>\n",
              "      <td>0.002195</td>\n",
              "      <td>0.241868</td>\n",
              "      <td>0.00052</td>\n",
              "      <td>-0.00018</td>\n",
              "      <td>0.00040</td>\n",
              "      <td>0.00066</td>\n",
              "      <td>0.00169</td>\n",
              "      <td>0.00099</td>\n",
              "      <td>0.00054</td>\n",
              "      <td>0.00070</td>\n",
              "      <td>0.00115</td>\n",
              "      <td>0.00045</td>\n",
              "    </tr>\n",
              "    <tr>\n",
              "      <th>2003-08-04 09:00:00</th>\n",
              "      <td>0.65150</td>\n",
              "      <td>0.65192</td>\n",
              "      <td>0.64977</td>\n",
              "      <td>0.65045</td>\n",
              "      <td>43484.790</td>\n",
              "      <td>0.003303</td>\n",
              "      <td>0.397881</td>\n",
              "      <td>-0.00080</td>\n",
              "      <td>0.00050</td>\n",
              "      <td>-0.00036</td>\n",
              "      <td>-0.00108</td>\n",
              "      <td>0.00143</td>\n",
              "      <td>0.00015</td>\n",
              "      <td>0.00040</td>\n",
              "      <td>0.00128</td>\n",
              "      <td>0.00103</td>\n",
              "      <td>-0.00025</td>\n",
              "    </tr>\n",
              "    <tr>\n",
              "      <th>2003-08-04 13:00:00</th>\n",
              "      <td>0.64978</td>\n",
              "      <td>0.65001</td>\n",
              "      <td>0.64572</td>\n",
              "      <td>0.64760</td>\n",
              "      <td>17907.410</td>\n",
              "      <td>0.006622</td>\n",
              "      <td>0.163851</td>\n",
              "      <td>-0.00285</td>\n",
              "      <td>-0.00172</td>\n",
              "      <td>-0.00191</td>\n",
              "      <td>-0.00405</td>\n",
              "      <td>0.00215</td>\n",
              "      <td>0.00173</td>\n",
              "      <td>0.00068</td>\n",
              "      <td>0.00042</td>\n",
              "      <td>0.00147</td>\n",
              "      <td>0.00105</td>\n",
              "    </tr>\n",
              "  </tbody>\n",
              "</table>\n",
              "</div>"
            ],
            "text/plain": [
              "                        Open     High      Low  ...      H-O      H-C      O-C\n",
              "Time (UTC)                                      ...                           \n",
              "2003-08-03 21:00:00  0.65152  0.65201  0.65084  ...      NaN      NaN      NaN\n",
              "2003-08-04 01:00:00  0.65118  0.65188  0.65019  ...  0.00049  0.00083  0.00034\n",
              "2003-08-04 05:00:00  0.65100  0.65228  0.65085  ...  0.00070  0.00115  0.00045\n",
              "2003-08-04 09:00:00  0.65150  0.65192  0.64977  ...  0.00128  0.00103 -0.00025\n",
              "2003-08-04 13:00:00  0.64978  0.65001  0.64572  ...  0.00042  0.00147  0.00105\n",
              "\n",
              "[5 rows x 17 columns]"
            ]
          },
          "metadata": {
            "tags": []
          },
          "execution_count": 9
        }
      ]
    },
    {
      "cell_type": "code",
      "metadata": {
        "id": "IBnGxWlxiy7b",
        "colab_type": "code",
        "colab": {
          "base_uri": "https://localhost:8080/",
          "height": 461
        },
        "outputId": "3b2e9c67-670c-48e7-b7ea-d31c82b8f614"
      },
      "source": [
        "df_aud['(C-O)/(H-L)'] = (-df_aud['O-C']) / df_aud['H-L']\n",
        "df_aud.head()"
      ],
      "execution_count": 10,
      "outputs": [
        {
          "output_type": "execute_result",
          "data": {
            "text/html": [
              "<div>\n",
              "<style scoped>\n",
              "    .dataframe tbody tr th:only-of-type {\n",
              "        vertical-align: middle;\n",
              "    }\n",
              "\n",
              "    .dataframe tbody tr th {\n",
              "        vertical-align: top;\n",
              "    }\n",
              "\n",
              "    .dataframe thead th {\n",
              "        text-align: right;\n",
              "    }\n",
              "</style>\n",
              "<table border=\"1\" class=\"dataframe\">\n",
              "  <thead>\n",
              "    <tr style=\"text-align: right;\">\n",
              "      <th></th>\n",
              "      <th>Open</th>\n",
              "      <th>High</th>\n",
              "      <th>Low</th>\n",
              "      <th>Close</th>\n",
              "      <th>Volume</th>\n",
              "      <th>Volatility</th>\n",
              "      <th>Adj_Volume</th>\n",
              "      <th>R_Close</th>\n",
              "      <th>R_Open</th>\n",
              "      <th>R_High</th>\n",
              "      <th>R_Low</th>\n",
              "      <th>H-L</th>\n",
              "      <th>O-L</th>\n",
              "      <th>C-L</th>\n",
              "      <th>H-O</th>\n",
              "      <th>H-C</th>\n",
              "      <th>O-C</th>\n",
              "      <th>(C-O)/(H-L)</th>\n",
              "    </tr>\n",
              "    <tr>\n",
              "      <th>Time (UTC)</th>\n",
              "      <th></th>\n",
              "      <th></th>\n",
              "      <th></th>\n",
              "      <th></th>\n",
              "      <th></th>\n",
              "      <th></th>\n",
              "      <th></th>\n",
              "      <th></th>\n",
              "      <th></th>\n",
              "      <th></th>\n",
              "      <th></th>\n",
              "      <th></th>\n",
              "      <th></th>\n",
              "      <th></th>\n",
              "      <th></th>\n",
              "      <th></th>\n",
              "      <th></th>\n",
              "      <th></th>\n",
              "    </tr>\n",
              "  </thead>\n",
              "  <tbody>\n",
              "    <tr>\n",
              "      <th>2003-08-03 21:00:00</th>\n",
              "      <td>0.65152</td>\n",
              "      <td>0.65201</td>\n",
              "      <td>0.65084</td>\n",
              "      <td>0.65118</td>\n",
              "      <td>117353.684</td>\n",
              "      <td>0.001796</td>\n",
              "      <td>1.073772</td>\n",
              "      <td>NaN</td>\n",
              "      <td>NaN</td>\n",
              "      <td>NaN</td>\n",
              "      <td>NaN</td>\n",
              "      <td>NaN</td>\n",
              "      <td>NaN</td>\n",
              "      <td>NaN</td>\n",
              "      <td>NaN</td>\n",
              "      <td>NaN</td>\n",
              "      <td>NaN</td>\n",
              "      <td>NaN</td>\n",
              "    </tr>\n",
              "    <tr>\n",
              "      <th>2003-08-04 01:00:00</th>\n",
              "      <td>0.65118</td>\n",
              "      <td>0.65188</td>\n",
              "      <td>0.65019</td>\n",
              "      <td>0.65073</td>\n",
              "      <td>20091.570</td>\n",
              "      <td>0.002596</td>\n",
              "      <td>0.183835</td>\n",
              "      <td>-0.00045</td>\n",
              "      <td>-0.00034</td>\n",
              "      <td>-0.00013</td>\n",
              "      <td>-0.00065</td>\n",
              "      <td>0.00117</td>\n",
              "      <td>0.00068</td>\n",
              "      <td>0.00034</td>\n",
              "      <td>0.00049</td>\n",
              "      <td>0.00083</td>\n",
              "      <td>0.00034</td>\n",
              "      <td>-0.290598</td>\n",
              "    </tr>\n",
              "    <tr>\n",
              "      <th>2003-08-04 05:00:00</th>\n",
              "      <td>0.65100</td>\n",
              "      <td>0.65228</td>\n",
              "      <td>0.65085</td>\n",
              "      <td>0.65125</td>\n",
              "      <td>26433.980</td>\n",
              "      <td>0.002195</td>\n",
              "      <td>0.241868</td>\n",
              "      <td>0.00052</td>\n",
              "      <td>-0.00018</td>\n",
              "      <td>0.00040</td>\n",
              "      <td>0.00066</td>\n",
              "      <td>0.00169</td>\n",
              "      <td>0.00099</td>\n",
              "      <td>0.00054</td>\n",
              "      <td>0.00070</td>\n",
              "      <td>0.00115</td>\n",
              "      <td>0.00045</td>\n",
              "      <td>-0.266272</td>\n",
              "    </tr>\n",
              "    <tr>\n",
              "      <th>2003-08-04 09:00:00</th>\n",
              "      <td>0.65150</td>\n",
              "      <td>0.65192</td>\n",
              "      <td>0.64977</td>\n",
              "      <td>0.65045</td>\n",
              "      <td>43484.790</td>\n",
              "      <td>0.003303</td>\n",
              "      <td>0.397881</td>\n",
              "      <td>-0.00080</td>\n",
              "      <td>0.00050</td>\n",
              "      <td>-0.00036</td>\n",
              "      <td>-0.00108</td>\n",
              "      <td>0.00143</td>\n",
              "      <td>0.00015</td>\n",
              "      <td>0.00040</td>\n",
              "      <td>0.00128</td>\n",
              "      <td>0.00103</td>\n",
              "      <td>-0.00025</td>\n",
              "      <td>0.174825</td>\n",
              "    </tr>\n",
              "    <tr>\n",
              "      <th>2003-08-04 13:00:00</th>\n",
              "      <td>0.64978</td>\n",
              "      <td>0.65001</td>\n",
              "      <td>0.64572</td>\n",
              "      <td>0.64760</td>\n",
              "      <td>17907.410</td>\n",
              "      <td>0.006622</td>\n",
              "      <td>0.163851</td>\n",
              "      <td>-0.00285</td>\n",
              "      <td>-0.00172</td>\n",
              "      <td>-0.00191</td>\n",
              "      <td>-0.00405</td>\n",
              "      <td>0.00215</td>\n",
              "      <td>0.00173</td>\n",
              "      <td>0.00068</td>\n",
              "      <td>0.00042</td>\n",
              "      <td>0.00147</td>\n",
              "      <td>0.00105</td>\n",
              "      <td>-0.488372</td>\n",
              "    </tr>\n",
              "  </tbody>\n",
              "</table>\n",
              "</div>"
            ],
            "text/plain": [
              "                        Open     High      Low  ...      H-C      O-C  (C-O)/(H-L)\n",
              "Time (UTC)                                      ...                               \n",
              "2003-08-03 21:00:00  0.65152  0.65201  0.65084  ...      NaN      NaN          NaN\n",
              "2003-08-04 01:00:00  0.65118  0.65188  0.65019  ...  0.00083  0.00034    -0.290598\n",
              "2003-08-04 05:00:00  0.65100  0.65228  0.65085  ...  0.00115  0.00045    -0.266272\n",
              "2003-08-04 09:00:00  0.65150  0.65192  0.64977  ...  0.00103 -0.00025     0.174825\n",
              "2003-08-04 13:00:00  0.64978  0.65001  0.64572  ...  0.00147  0.00105    -0.488372\n",
              "\n",
              "[5 rows x 18 columns]"
            ]
          },
          "metadata": {
            "tags": []
          },
          "execution_count": 10
        }
      ]
    },
    {
      "cell_type": "code",
      "metadata": {
        "id": "iPPORA8Yiy7e",
        "colab_type": "code",
        "colab": {
          "base_uri": "https://localhost:8080/",
          "height": 461
        },
        "outputId": "d0748c7f-1693-496e-e8aa-a2f56f829efd"
      },
      "source": [
        "df_aud['(O-L)/(C)'] = df_aud['O-L'] / df_aud['Close']\n",
        "df_aud['(O-H)/(C)'] = df_aud['H-O'] / df_aud['Close']\n",
        "df_aud.head()"
      ],
      "execution_count": 11,
      "outputs": [
        {
          "output_type": "execute_result",
          "data": {
            "text/html": [
              "<div>\n",
              "<style scoped>\n",
              "    .dataframe tbody tr th:only-of-type {\n",
              "        vertical-align: middle;\n",
              "    }\n",
              "\n",
              "    .dataframe tbody tr th {\n",
              "        vertical-align: top;\n",
              "    }\n",
              "\n",
              "    .dataframe thead th {\n",
              "        text-align: right;\n",
              "    }\n",
              "</style>\n",
              "<table border=\"1\" class=\"dataframe\">\n",
              "  <thead>\n",
              "    <tr style=\"text-align: right;\">\n",
              "      <th></th>\n",
              "      <th>Open</th>\n",
              "      <th>High</th>\n",
              "      <th>Low</th>\n",
              "      <th>Close</th>\n",
              "      <th>Volume</th>\n",
              "      <th>Volatility</th>\n",
              "      <th>Adj_Volume</th>\n",
              "      <th>R_Close</th>\n",
              "      <th>R_Open</th>\n",
              "      <th>R_High</th>\n",
              "      <th>R_Low</th>\n",
              "      <th>H-L</th>\n",
              "      <th>O-L</th>\n",
              "      <th>C-L</th>\n",
              "      <th>H-O</th>\n",
              "      <th>H-C</th>\n",
              "      <th>O-C</th>\n",
              "      <th>(C-O)/(H-L)</th>\n",
              "      <th>(O-L)/(C)</th>\n",
              "      <th>(O-H)/(C)</th>\n",
              "    </tr>\n",
              "    <tr>\n",
              "      <th>Time (UTC)</th>\n",
              "      <th></th>\n",
              "      <th></th>\n",
              "      <th></th>\n",
              "      <th></th>\n",
              "      <th></th>\n",
              "      <th></th>\n",
              "      <th></th>\n",
              "      <th></th>\n",
              "      <th></th>\n",
              "      <th></th>\n",
              "      <th></th>\n",
              "      <th></th>\n",
              "      <th></th>\n",
              "      <th></th>\n",
              "      <th></th>\n",
              "      <th></th>\n",
              "      <th></th>\n",
              "      <th></th>\n",
              "      <th></th>\n",
              "      <th></th>\n",
              "    </tr>\n",
              "  </thead>\n",
              "  <tbody>\n",
              "    <tr>\n",
              "      <th>2003-08-03 21:00:00</th>\n",
              "      <td>0.65152</td>\n",
              "      <td>0.65201</td>\n",
              "      <td>0.65084</td>\n",
              "      <td>0.65118</td>\n",
              "      <td>117353.684</td>\n",
              "      <td>0.001796</td>\n",
              "      <td>1.073772</td>\n",
              "      <td>NaN</td>\n",
              "      <td>NaN</td>\n",
              "      <td>NaN</td>\n",
              "      <td>NaN</td>\n",
              "      <td>NaN</td>\n",
              "      <td>NaN</td>\n",
              "      <td>NaN</td>\n",
              "      <td>NaN</td>\n",
              "      <td>NaN</td>\n",
              "      <td>NaN</td>\n",
              "      <td>NaN</td>\n",
              "      <td>NaN</td>\n",
              "      <td>NaN</td>\n",
              "    </tr>\n",
              "    <tr>\n",
              "      <th>2003-08-04 01:00:00</th>\n",
              "      <td>0.65118</td>\n",
              "      <td>0.65188</td>\n",
              "      <td>0.65019</td>\n",
              "      <td>0.65073</td>\n",
              "      <td>20091.570</td>\n",
              "      <td>0.002596</td>\n",
              "      <td>0.183835</td>\n",
              "      <td>-0.00045</td>\n",
              "      <td>-0.00034</td>\n",
              "      <td>-0.00013</td>\n",
              "      <td>-0.00065</td>\n",
              "      <td>0.00117</td>\n",
              "      <td>0.00068</td>\n",
              "      <td>0.00034</td>\n",
              "      <td>0.00049</td>\n",
              "      <td>0.00083</td>\n",
              "      <td>0.00034</td>\n",
              "      <td>-0.290598</td>\n",
              "      <td>0.001045</td>\n",
              "      <td>0.000753</td>\n",
              "    </tr>\n",
              "    <tr>\n",
              "      <th>2003-08-04 05:00:00</th>\n",
              "      <td>0.65100</td>\n",
              "      <td>0.65228</td>\n",
              "      <td>0.65085</td>\n",
              "      <td>0.65125</td>\n",
              "      <td>26433.980</td>\n",
              "      <td>0.002195</td>\n",
              "      <td>0.241868</td>\n",
              "      <td>0.00052</td>\n",
              "      <td>-0.00018</td>\n",
              "      <td>0.00040</td>\n",
              "      <td>0.00066</td>\n",
              "      <td>0.00169</td>\n",
              "      <td>0.00099</td>\n",
              "      <td>0.00054</td>\n",
              "      <td>0.00070</td>\n",
              "      <td>0.00115</td>\n",
              "      <td>0.00045</td>\n",
              "      <td>-0.266272</td>\n",
              "      <td>0.001520</td>\n",
              "      <td>0.001075</td>\n",
              "    </tr>\n",
              "    <tr>\n",
              "      <th>2003-08-04 09:00:00</th>\n",
              "      <td>0.65150</td>\n",
              "      <td>0.65192</td>\n",
              "      <td>0.64977</td>\n",
              "      <td>0.65045</td>\n",
              "      <td>43484.790</td>\n",
              "      <td>0.003303</td>\n",
              "      <td>0.397881</td>\n",
              "      <td>-0.00080</td>\n",
              "      <td>0.00050</td>\n",
              "      <td>-0.00036</td>\n",
              "      <td>-0.00108</td>\n",
              "      <td>0.00143</td>\n",
              "      <td>0.00015</td>\n",
              "      <td>0.00040</td>\n",
              "      <td>0.00128</td>\n",
              "      <td>0.00103</td>\n",
              "      <td>-0.00025</td>\n",
              "      <td>0.174825</td>\n",
              "      <td>0.000231</td>\n",
              "      <td>0.001968</td>\n",
              "    </tr>\n",
              "    <tr>\n",
              "      <th>2003-08-04 13:00:00</th>\n",
              "      <td>0.64978</td>\n",
              "      <td>0.65001</td>\n",
              "      <td>0.64572</td>\n",
              "      <td>0.64760</td>\n",
              "      <td>17907.410</td>\n",
              "      <td>0.006622</td>\n",
              "      <td>0.163851</td>\n",
              "      <td>-0.00285</td>\n",
              "      <td>-0.00172</td>\n",
              "      <td>-0.00191</td>\n",
              "      <td>-0.00405</td>\n",
              "      <td>0.00215</td>\n",
              "      <td>0.00173</td>\n",
              "      <td>0.00068</td>\n",
              "      <td>0.00042</td>\n",
              "      <td>0.00147</td>\n",
              "      <td>0.00105</td>\n",
              "      <td>-0.488372</td>\n",
              "      <td>0.002671</td>\n",
              "      <td>0.000649</td>\n",
              "    </tr>\n",
              "  </tbody>\n",
              "</table>\n",
              "</div>"
            ],
            "text/plain": [
              "                        Open     High  ...  (O-L)/(C)  (O-H)/(C)\n",
              "Time (UTC)                             ...                      \n",
              "2003-08-03 21:00:00  0.65152  0.65201  ...        NaN        NaN\n",
              "2003-08-04 01:00:00  0.65118  0.65188  ...   0.001045   0.000753\n",
              "2003-08-04 05:00:00  0.65100  0.65228  ...   0.001520   0.001075\n",
              "2003-08-04 09:00:00  0.65150  0.65192  ...   0.000231   0.001968\n",
              "2003-08-04 13:00:00  0.64978  0.65001  ...   0.002671   0.000649\n",
              "\n",
              "[5 rows x 20 columns]"
            ]
          },
          "metadata": {
            "tags": []
          },
          "execution_count": 11
        }
      ]
    },
    {
      "cell_type": "code",
      "metadata": {
        "id": "12OXokF8iy7h",
        "colab_type": "code",
        "colab": {
          "base_uri": "https://localhost:8080/",
          "height": 461
        },
        "outputId": "89ecd586-78aa-4df7-9acf-efafdf56ca3c"
      },
      "source": [
        "df_aud.head()"
      ],
      "execution_count": 12,
      "outputs": [
        {
          "output_type": "execute_result",
          "data": {
            "text/html": [
              "<div>\n",
              "<style scoped>\n",
              "    .dataframe tbody tr th:only-of-type {\n",
              "        vertical-align: middle;\n",
              "    }\n",
              "\n",
              "    .dataframe tbody tr th {\n",
              "        vertical-align: top;\n",
              "    }\n",
              "\n",
              "    .dataframe thead th {\n",
              "        text-align: right;\n",
              "    }\n",
              "</style>\n",
              "<table border=\"1\" class=\"dataframe\">\n",
              "  <thead>\n",
              "    <tr style=\"text-align: right;\">\n",
              "      <th></th>\n",
              "      <th>Open</th>\n",
              "      <th>High</th>\n",
              "      <th>Low</th>\n",
              "      <th>Close</th>\n",
              "      <th>Volume</th>\n",
              "      <th>Volatility</th>\n",
              "      <th>Adj_Volume</th>\n",
              "      <th>R_Close</th>\n",
              "      <th>R_Open</th>\n",
              "      <th>R_High</th>\n",
              "      <th>R_Low</th>\n",
              "      <th>H-L</th>\n",
              "      <th>O-L</th>\n",
              "      <th>C-L</th>\n",
              "      <th>H-O</th>\n",
              "      <th>H-C</th>\n",
              "      <th>O-C</th>\n",
              "      <th>(C-O)/(H-L)</th>\n",
              "      <th>(O-L)/(C)</th>\n",
              "      <th>(O-H)/(C)</th>\n",
              "    </tr>\n",
              "    <tr>\n",
              "      <th>Time (UTC)</th>\n",
              "      <th></th>\n",
              "      <th></th>\n",
              "      <th></th>\n",
              "      <th></th>\n",
              "      <th></th>\n",
              "      <th></th>\n",
              "      <th></th>\n",
              "      <th></th>\n",
              "      <th></th>\n",
              "      <th></th>\n",
              "      <th></th>\n",
              "      <th></th>\n",
              "      <th></th>\n",
              "      <th></th>\n",
              "      <th></th>\n",
              "      <th></th>\n",
              "      <th></th>\n",
              "      <th></th>\n",
              "      <th></th>\n",
              "      <th></th>\n",
              "    </tr>\n",
              "  </thead>\n",
              "  <tbody>\n",
              "    <tr>\n",
              "      <th>2003-08-03 21:00:00</th>\n",
              "      <td>0.65152</td>\n",
              "      <td>0.65201</td>\n",
              "      <td>0.65084</td>\n",
              "      <td>0.65118</td>\n",
              "      <td>117353.684</td>\n",
              "      <td>0.001796</td>\n",
              "      <td>1.073772</td>\n",
              "      <td>NaN</td>\n",
              "      <td>NaN</td>\n",
              "      <td>NaN</td>\n",
              "      <td>NaN</td>\n",
              "      <td>NaN</td>\n",
              "      <td>NaN</td>\n",
              "      <td>NaN</td>\n",
              "      <td>NaN</td>\n",
              "      <td>NaN</td>\n",
              "      <td>NaN</td>\n",
              "      <td>NaN</td>\n",
              "      <td>NaN</td>\n",
              "      <td>NaN</td>\n",
              "    </tr>\n",
              "    <tr>\n",
              "      <th>2003-08-04 01:00:00</th>\n",
              "      <td>0.65118</td>\n",
              "      <td>0.65188</td>\n",
              "      <td>0.65019</td>\n",
              "      <td>0.65073</td>\n",
              "      <td>20091.570</td>\n",
              "      <td>0.002596</td>\n",
              "      <td>0.183835</td>\n",
              "      <td>-0.00045</td>\n",
              "      <td>-0.00034</td>\n",
              "      <td>-0.00013</td>\n",
              "      <td>-0.00065</td>\n",
              "      <td>0.00117</td>\n",
              "      <td>0.00068</td>\n",
              "      <td>0.00034</td>\n",
              "      <td>0.00049</td>\n",
              "      <td>0.00083</td>\n",
              "      <td>0.00034</td>\n",
              "      <td>-0.290598</td>\n",
              "      <td>0.001045</td>\n",
              "      <td>0.000753</td>\n",
              "    </tr>\n",
              "    <tr>\n",
              "      <th>2003-08-04 05:00:00</th>\n",
              "      <td>0.65100</td>\n",
              "      <td>0.65228</td>\n",
              "      <td>0.65085</td>\n",
              "      <td>0.65125</td>\n",
              "      <td>26433.980</td>\n",
              "      <td>0.002195</td>\n",
              "      <td>0.241868</td>\n",
              "      <td>0.00052</td>\n",
              "      <td>-0.00018</td>\n",
              "      <td>0.00040</td>\n",
              "      <td>0.00066</td>\n",
              "      <td>0.00169</td>\n",
              "      <td>0.00099</td>\n",
              "      <td>0.00054</td>\n",
              "      <td>0.00070</td>\n",
              "      <td>0.00115</td>\n",
              "      <td>0.00045</td>\n",
              "      <td>-0.266272</td>\n",
              "      <td>0.001520</td>\n",
              "      <td>0.001075</td>\n",
              "    </tr>\n",
              "    <tr>\n",
              "      <th>2003-08-04 09:00:00</th>\n",
              "      <td>0.65150</td>\n",
              "      <td>0.65192</td>\n",
              "      <td>0.64977</td>\n",
              "      <td>0.65045</td>\n",
              "      <td>43484.790</td>\n",
              "      <td>0.003303</td>\n",
              "      <td>0.397881</td>\n",
              "      <td>-0.00080</td>\n",
              "      <td>0.00050</td>\n",
              "      <td>-0.00036</td>\n",
              "      <td>-0.00108</td>\n",
              "      <td>0.00143</td>\n",
              "      <td>0.00015</td>\n",
              "      <td>0.00040</td>\n",
              "      <td>0.00128</td>\n",
              "      <td>0.00103</td>\n",
              "      <td>-0.00025</td>\n",
              "      <td>0.174825</td>\n",
              "      <td>0.000231</td>\n",
              "      <td>0.001968</td>\n",
              "    </tr>\n",
              "    <tr>\n",
              "      <th>2003-08-04 13:00:00</th>\n",
              "      <td>0.64978</td>\n",
              "      <td>0.65001</td>\n",
              "      <td>0.64572</td>\n",
              "      <td>0.64760</td>\n",
              "      <td>17907.410</td>\n",
              "      <td>0.006622</td>\n",
              "      <td>0.163851</td>\n",
              "      <td>-0.00285</td>\n",
              "      <td>-0.00172</td>\n",
              "      <td>-0.00191</td>\n",
              "      <td>-0.00405</td>\n",
              "      <td>0.00215</td>\n",
              "      <td>0.00173</td>\n",
              "      <td>0.00068</td>\n",
              "      <td>0.00042</td>\n",
              "      <td>0.00147</td>\n",
              "      <td>0.00105</td>\n",
              "      <td>-0.488372</td>\n",
              "      <td>0.002671</td>\n",
              "      <td>0.000649</td>\n",
              "    </tr>\n",
              "  </tbody>\n",
              "</table>\n",
              "</div>"
            ],
            "text/plain": [
              "                        Open     High  ...  (O-L)/(C)  (O-H)/(C)\n",
              "Time (UTC)                             ...                      \n",
              "2003-08-03 21:00:00  0.65152  0.65201  ...        NaN        NaN\n",
              "2003-08-04 01:00:00  0.65118  0.65188  ...   0.001045   0.000753\n",
              "2003-08-04 05:00:00  0.65100  0.65228  ...   0.001520   0.001075\n",
              "2003-08-04 09:00:00  0.65150  0.65192  ...   0.000231   0.001968\n",
              "2003-08-04 13:00:00  0.64978  0.65001  ...   0.002671   0.000649\n",
              "\n",
              "[5 rows x 20 columns]"
            ]
          },
          "metadata": {
            "tags": []
          },
          "execution_count": 12
        }
      ]
    },
    {
      "cell_type": "code",
      "metadata": {
        "id": "XLGdK_Pfiy7j",
        "colab_type": "code",
        "colab": {}
      },
      "source": [
        "df_aud.dropna(inplace = True)"
      ],
      "execution_count": 13,
      "outputs": []
    },
    {
      "cell_type": "code",
      "metadata": {
        "scrolled": true,
        "id": "Cl7R9vPPiy7o",
        "colab_type": "code",
        "colab": {},
        "outputId": "ddf8535d-d24c-47ba-eefe-fb7ec2039232"
      },
      "source": [
        "#Test for staionarity\n",
        "def test_stationarity(timeseries):\n",
        "    #Determing rolling statistics\n",
        "    rolmean = timeseries.rolling(12).mean() \n",
        "    rolstd = timeseries.rolling(12).std()\n",
        "    #Plot rolling statistics:\n",
        "    plt.plot(timeseries, color='blue',label='Original')\n",
        "    plt.plot(rolmean, color='red', label='Rolling Mean')\n",
        "    plt.plot(rolstd, color='black', label = 'Rolling Std')\n",
        "    plt.legend(loc='best')\n",
        "    plt.title('Rolling Mean and Standard Deviation')\n",
        "    plt.show(block=False)\n",
        "    \n",
        "    print(\"Results of dickey fuller test\")\n",
        "    adft = adfuller(timeseries)\n",
        "    # output for dft will give us without defining what the values are.\n",
        "    #hence we manually write what values does it explains using a for loop\n",
        "    output = pd.Series(adft[0:4],index=['Test Statistics','p-value','No. of lags used','Number of observations used'])\n",
        "    for key,values in adft[4].items():\n",
        "        output['critical value (%s)'%key] =  values\n",
        "    print(output)\n",
        "    \n",
        "df_close = df_aud['R_Close']\n",
        "test_stationarity(df_close)"
      ],
      "execution_count": null,
      "outputs": [
        {
          "output_type": "display_data",
          "data": {
            "image/png": "[encoded data removed]",
            "text/plain": [
              "<Figure size 432x288 with 1 Axes>"
            ]
          },
          "metadata": {
            "tags": [],
            "needs_background": "light"
          }
        },
        {
          "output_type": "stream",
          "text": [
            "Results of dickey fuller test\n",
            "Test Statistics                  -32.492352\n",
            "p-value                            0.000000\n",
            "No. of lags used                  23.000000\n",
            "Number of observations used    25887.000000\n",
            "critical value (1%)               -3.430603\n",
            "critical value (5%)               -2.861652\n",
            "critical value (10%)              -2.566829\n",
            "dtype: float64\n"
          ],
          "name": "stdout"
        }
      ]
    },
    {
      "cell_type": "code",
      "metadata": {
        "id": "o0MORyxdiy7r",
        "colab_type": "code",
        "colab": {}
      },
      "source": [
        ""
      ],
      "execution_count": null,
      "outputs": []
    },
    {
      "cell_type": "code",
      "metadata": {
        "id": "owuIDGxbiy7t",
        "colab_type": "code",
        "colab": {}
      },
      "source": [
        ""
      ],
      "execution_count": null,
      "outputs": []
    },
    {
      "cell_type": "code",
      "metadata": {
        "scrolled": true,
        "id": "MXhx-9Y-iy7z",
        "colab_type": "code",
        "colab": {},
        "outputId": "198281fe-93eb-4159-811c-c553ba6bbb2a"
      },
      "source": [
        "df_aud[['Open','High','Low','Close','Volume ']] = scaler.fit_transform(df_aud[['Open','High','Low','Close','Volume ']].to_numpy())\n",
        "df_aud.describe()"
      ],
      "execution_count": null,
      "outputs": [
        {
          "output_type": "execute_result",
          "data": {
            "text/html": [
              "<div>\n",
              "<style scoped>\n",
              "    .dataframe tbody tr th:only-of-type {\n",
              "        vertical-align: middle;\n",
              "    }\n",
              "\n",
              "    .dataframe tbody tr th {\n",
              "        vertical-align: top;\n",
              "    }\n",
              "\n",
              "    .dataframe thead th {\n",
              "        text-align: right;\n",
              "    }\n",
              "</style>\n",
              "<table border=\"1\" class=\"dataframe\">\n",
              "  <thead>\n",
              "    <tr style=\"text-align: right;\">\n",
              "      <th></th>\n",
              "      <th>Open</th>\n",
              "      <th>High</th>\n",
              "      <th>Low</th>\n",
              "      <th>Close</th>\n",
              "      <th>Volume</th>\n",
              "    </tr>\n",
              "  </thead>\n",
              "  <tbody>\n",
              "    <tr>\n",
              "      <th>count</th>\n",
              "      <td>2.594000e+04</td>\n",
              "      <td>2.594000e+04</td>\n",
              "      <td>2.594000e+04</td>\n",
              "      <td>2.594000e+04</td>\n",
              "      <td>2.594000e+04</td>\n",
              "    </tr>\n",
              "    <tr>\n",
              "      <th>mean</th>\n",
              "      <td>-8.807741e-16</td>\n",
              "      <td>-5.893512e-16</td>\n",
              "      <td>6.669042e-17</td>\n",
              "      <td>-2.873911e-16</td>\n",
              "      <td>2.507865e-15</td>\n",
              "    </tr>\n",
              "    <tr>\n",
              "      <th>std</th>\n",
              "      <td>1.000019e+00</td>\n",
              "      <td>1.000019e+00</td>\n",
              "      <td>1.000019e+00</td>\n",
              "      <td>1.000019e+00</td>\n",
              "      <td>1.000019e+00</td>\n",
              "    </tr>\n",
              "    <tr>\n",
              "      <th>min</th>\n",
              "      <td>-1.915662e+00</td>\n",
              "      <td>-1.864359e+00</td>\n",
              "      <td>-1.906929e+00</td>\n",
              "      <td>-1.915705e+00</td>\n",
              "      <td>-4.740305e-01</td>\n",
              "    </tr>\n",
              "    <tr>\n",
              "      <th>25%</th>\n",
              "      <td>-7.510094e-01</td>\n",
              "      <td>-7.533582e-01</td>\n",
              "      <td>-7.482241e-01</td>\n",
              "      <td>-7.511265e-01</td>\n",
              "      <td>-4.236941e-01</td>\n",
              "    </tr>\n",
              "    <tr>\n",
              "      <th>50%</th>\n",
              "      <td>-4.012810e-01</td>\n",
              "      <td>-4.017207e-01</td>\n",
              "      <td>-4.003991e-01</td>\n",
              "      <td>-4.013519e-01</td>\n",
              "      <td>-3.914353e-01</td>\n",
              "    </tr>\n",
              "    <tr>\n",
              "      <th>75%</th>\n",
              "      <td>7.976445e-01</td>\n",
              "      <td>8.002953e-01</td>\n",
              "      <td>7.948220e-01</td>\n",
              "      <td>7.975432e-01</td>\n",
              "      <td>-3.233942e-01</td>\n",
              "    </tr>\n",
              "    <tr>\n",
              "      <th>max</th>\n",
              "      <td>2.390532e+00</td>\n",
              "      <td>2.388279e+00</td>\n",
              "      <td>2.392792e+00</td>\n",
              "      <td>2.390276e+00</td>\n",
              "      <td>6.006833e+00</td>\n",
              "    </tr>\n",
              "  </tbody>\n",
              "</table>\n",
              "</div>"
            ],
            "text/plain": [
              "               Open          High           Low         Close       Volume \n",
              "count  2.594000e+04  2.594000e+04  2.594000e+04  2.594000e+04  2.594000e+04\n",
              "mean  -8.807741e-16 -5.893512e-16  6.669042e-17 -2.873911e-16  2.507865e-15\n",
              "std    1.000019e+00  1.000019e+00  1.000019e+00  1.000019e+00  1.000019e+00\n",
              "min   -1.915662e+00 -1.864359e+00 -1.906929e+00 -1.915705e+00 -4.740305e-01\n",
              "25%   -7.510094e-01 -7.533582e-01 -7.482241e-01 -7.511265e-01 -4.236941e-01\n",
              "50%   -4.012810e-01 -4.017207e-01 -4.003991e-01 -4.013519e-01 -3.914353e-01\n",
              "75%    7.976445e-01  8.002953e-01  7.948220e-01  7.975432e-01 -3.233942e-01\n",
              "max    2.390532e+00  2.388279e+00  2.392792e+00  2.390276e+00  6.006833e+00"
            ]
          },
          "metadata": {
            "tags": []
          },
          "execution_count": 120
        }
      ]
    },
    {
      "cell_type": "code",
      "metadata": {
        "id": "AE3SJhmjiy72",
        "colab_type": "code",
        "colab": {}
      },
      "source": [
        ""
      ],
      "execution_count": null,
      "outputs": []
    },
    {
      "cell_type": "code",
      "metadata": {
        "scrolled": false,
        "id": "NFOfpqUMiy74",
        "colab_type": "code",
        "colab": {},
        "outputId": "4c7e8974-e6e2-4a87-fae6-6967f6619e18"
      },
      "source": [
        "plt.figure(figsize=(20,12))\n",
        "plt.grid(True)\n",
        "plt.xlabel('Dates')\n",
        "plt.ylabel('Prices')\n",
        "#plt.plot(df_aud['R_Close'],color='red')\n",
        "#plt.plot(df_aud['Open'],color='blue')\n",
        "#plt.plot(df_aud['High'],color='green')\n",
        "#plt.plot(df_aud['Low'],color='black')\n",
        "plt.plot(df_aud['Adj_Volume'],color='red')\n",
        "\n",
        "plt.show()"
      ],
      "execution_count": null,
      "outputs": [
        {
          "output_type": "display_data",
          "data": {
            "image/png": "[encoded data removed]",
            "text/plain": [
              "<Figure size 1440x864 with 1 Axes>"
            ]
          },
          "metadata": {
            "tags": [],
            "needs_background": "light"
          }
        }
      ]
    },
    {
      "cell_type": "code",
      "metadata": {
        "scrolled": true,
        "id": "ves6JYTtiy78",
        "colab_type": "code",
        "colab": {},
        "outputId": "104df723-3a1e-41c7-9955-d88baa2e6b9a"
      },
      "source": [
        "dist = sns.kdeplot(df_aud['R_Close'])"
      ],
      "execution_count": null,
      "outputs": [
        {
          "output_type": "display_data",
          "data": {
            "image/png": "[encoded data removed]",
            "text/plain": [
              "<Figure size 432x288 with 1 Axes>"
            ]
          },
          "metadata": {
            "tags": [],
            "needs_background": "light"
          }
        }
      ]
    },
    {
      "cell_type": "code",
      "metadata": {
        "scrolled": false,
        "id": "LzkogOt9iy7_",
        "colab_type": "code",
        "colab": {},
        "outputId": "de91c39a-e02d-4194-98f0-f542df374ce1"
      },
      "source": [
        "result = seasonal_decompose(df_aud['R_Close'], model='additive',freq = 132)\n",
        "fig = plt.figure()  \n",
        "fig = result.plot()  \n",
        "fig.set_size_inches(16, 9)"
      ],
      "execution_count": null,
      "outputs": [
        {
          "output_type": "display_data",
          "data": {
            "text/plain": [
              "<Figure size 432x288 with 0 Axes>"
            ]
          },
          "metadata": {
            "tags": []
          }
        },
        {
          "output_type": "display_data",
          "data": {
            "image/png": "[encoded data removed]",
            "text/plain": [
              "<Figure size 1152x648 with 4 Axes>"
            ]
          },
          "metadata": {
            "tags": [],
            "needs_background": "light"
          }
        }
      ]
    },
    {
      "cell_type": "code",
      "metadata": {
        "id": "d6aSLewXiy8C",
        "colab_type": "code",
        "colab": {}
      },
      "source": [
        ""
      ],
      "execution_count": null,
      "outputs": []
    },
    {
      "cell_type": "code",
      "metadata": {
        "scrolled": false,
        "id": "UKd2VFsUiy8F",
        "colab_type": "code",
        "colab": {
          "base_uri": "https://localhost:8080/",
          "height": 485
        },
        "outputId": "5c1a1e4f-ebbf-4e67-c0a9-ec8d094b8b62"
      },
      "source": [
        "df_aud.info() # no null values"
      ],
      "execution_count": 14,
      "outputs": [
        {
          "output_type": "stream",
          "text": [
            "<class 'pandas.core.frame.DataFrame'>\n",
            "DatetimeIndex: 25807 entries, 2003-08-04 01:00:00 to 2020-03-12 21:00:00\n",
            "Data columns (total 20 columns):\n",
            " #   Column       Non-Null Count  Dtype  \n",
            "---  ------       --------------  -----  \n",
            " 0   Open         25807 non-null  float64\n",
            " 1   High         25807 non-null  float64\n",
            " 2   Low          25807 non-null  float64\n",
            " 3   Close        25807 non-null  float64\n",
            " 4   Volume       25807 non-null  float64\n",
            " 5   Volatility   25807 non-null  float64\n",
            " 6   Adj_Volume   25807 non-null  float64\n",
            " 7   R_Close      25807 non-null  float64\n",
            " 8   R_Open       25807 non-null  float64\n",
            " 9   R_High       25807 non-null  float64\n",
            " 10  R_Low        25807 non-null  float64\n",
            " 11  H-L          25807 non-null  float64\n",
            " 12  O-L          25807 non-null  float64\n",
            " 13  C-L          25807 non-null  float64\n",
            " 14  H-O          25807 non-null  float64\n",
            " 15  H-C          25807 non-null  float64\n",
            " 16  O-C          25807 non-null  float64\n",
            " 17  (C-O)/(H-L)  25807 non-null  float64\n",
            " 18  (O-L)/(C)    25807 non-null  float64\n",
            " 19  (O-H)/(C)    25807 non-null  float64\n",
            "dtypes: float64(20)\n",
            "memory usage: 4.1 MB\n"
          ],
          "name": "stdout"
        }
      ]
    },
    {
      "cell_type": "code",
      "metadata": {
        "scrolled": true,
        "id": "3ILAsqyjiy8I",
        "colab_type": "code",
        "colab": {
          "base_uri": "https://localhost:8080/",
          "height": 589
        },
        "outputId": "d20c0da0-f460-4b60-9da2-dd3b949cdc68"
      },
      "source": [
        "print(df_aud.describe())\n",
        "print()\n",
        "print(df_aud.median()-df_aud.mean())"
      ],
      "execution_count": 15,
      "outputs": [
        {
          "output_type": "stream",
          "text": [
            "               Open          High  ...     (O-L)/(C)     (O-H)/(C)\n",
            "count  25807.000000  25807.000000  ...  25807.000000  25807.000000\n",
            "mean       0.825890      0.827708  ...      0.002284      0.002234\n",
            "std        0.117421      0.117519  ...      0.002562      0.002340\n",
            "min        0.601550      0.609200  ...      0.000000      0.000000\n",
            "25%        0.737875      0.739345  ...      0.000760      0.000774\n",
            "50%        0.778570      0.780290  ...      0.001601      0.001609\n",
            "75%        0.919805      0.921960  ...      0.002939      0.002946\n",
            "max        1.106320      1.108100  ...      0.058815      0.051524\n",
            "\n",
            "[8 rows x 20 columns]\n",
            "\n",
            "Open              -0.047320\n",
            "High              -0.047418\n",
            "Low               -0.047158\n",
            "Close             -0.047313\n",
            "Volume        -90690.826864\n",
            "Volatility        -0.000747\n",
            "Adj_Volume        -0.829810\n",
            "R_Close            0.000032\n",
            "R_Open             0.000032\n",
            "R_High            -0.000022\n",
            "R_Low              0.000076\n",
            "H-L               -0.000612\n",
            "O-L               -0.000568\n",
            "C-L               -0.000490\n",
            "H-O               -0.000524\n",
            "H-C               -0.000521\n",
            "O-C               -0.000037\n",
            "(C-O)/(H-L)        0.010016\n",
            "(O-L)/(C)         -0.000683\n",
            "(O-H)/(C)         -0.000625\n",
            "dtype: float64\n"
          ],
          "name": "stdout"
        }
      ]
    },
    {
      "cell_type": "code",
      "metadata": {
        "id": "nyqcl_nsiy8K",
        "colab_type": "code",
        "colab": {
          "base_uri": "https://localhost:8080/",
          "height": 35
        },
        "outputId": "f44d5876-acdd-42cd-cc18-2fe675886dec"
      },
      "source": [
        "from sklearn.model_selection import train_test_split\n",
        "\n",
        "X = df_aud[['Open','Volatility','Adj_Volume','R_Close','R_Open','R_High','R_Low',\n",
        "           'H-L','O-L','C-L','H-O','H-C','O-C','(C-O)/(H-L)','(O-L)/(C)','(O-H)/(C)']]\n",
        "#y = df_aud[['High','Low','Close']]\n",
        "y = df_aud['Close']\n",
        "\n",
        "scaler = preprocessing.MinMaxScaler(feature_range=(0, 1))\n",
        "\n",
        "X_train, X_test, y_train, y_test = train_test_split(X, y, train_size = 0.8, test_size=0.2, random_state=42, shuffle = True)\n",
        "\n",
        "if 0.7*X_train.shape[0] < 25807:\n",
        "    train_split = 0.8\n",
        "else:\n",
        "    train_split = 0.7\n",
        "\n",
        "X_train, X_cv, y_train, y_cv = train_test_split(X_train, y_train, train_size=train_split, test_size=1-train_split, random_state=42, shuffle=True)\n",
        "\n",
        "X_train = scaler.fit_transform(X_train)\n",
        "X_cv = scaler.transform(X_cv)\n",
        "X_test = scaler.transform(X_test)\n",
        "\n",
        "print(\"Shape of x, y train/cv/test {} {} {} {} {} {}\".format(X_train.shape, y_train.shape, X_cv.shape, y_cv.shape, X_test.shape, y_test.shape))"
      ],
      "execution_count": 41,
      "outputs": [
        {
          "output_type": "stream",
          "text": [
            "Shape of x, y train/cv/test (16516, 16) (16516,) (4129, 16) (4129,) (5162, 16) (5162,)\n"
          ],
          "name": "stdout"
        }
      ]
    },
    {
      "cell_type": "code",
      "metadata": {
        "id": "RJm9Ume35_SI",
        "colab_type": "code",
        "colab": {}
      },
      "source": [
        "def reshape_as_image(x, img_width, img_height):\n",
        "    x_temp = np.zeros((len(x), img_height, img_width))\n",
        "    for i in range(x.shape[0]):\n",
        "        # print(type(x), type(x_temp), x.shape)\n",
        "        x_temp[i] = np.reshape(x[i], (img_height, img_width))\n",
        "\n",
        "    return x_temp"
      ],
      "execution_count": 47,
      "outputs": []
    },
    {
      "cell_type": "code",
      "metadata": {
        "id": "W-vxULRS5XWw",
        "colab_type": "code",
        "colab": {}
      },
      "source": [
        "num_features=16\n",
        "dim = int(np.sqrt(num_features))\n",
        "#X_train = reshape_as_image(X_train, dim, dim)\n",
        "#X_cv = reshape_as_image(X_cv, dim, dim)\n",
        "#X_test = reshape_as_image(X_test, dim, dim)\n",
        "# adding a 1-dim for channels (3)\n",
        "X_train = np.stack((X_train,) * 1, axis=-1)\n",
        "X_test = np.stack((X_test,) * 1, axis=-1)\n",
        "X_cv = np.stack((X_cv,) * 1, axis=-1)\n"
      ],
      "execution_count": 66,
      "outputs": []
    },
    {
      "cell_type": "code",
      "metadata": {
        "id": "z9ZwkJeT6eot",
        "colab_type": "code",
        "colab": {
          "base_uri": "https://localhost:8080/",
          "height": 35
        },
        "outputId": "997f072e-8c1d-4d4f-ded1-14bd0cc8935c"
      },
      "source": [
        "print(\"final shape of x, y train/test {} {} {} {}\".format(X_train.shape, y_train.shape, X_test.shape, y_test.shape))\n"
      ],
      "execution_count": 67,
      "outputs": [
        {
          "output_type": "stream",
          "text": [
            "final shape of x, y train/test (16516, 4, 4, 3, 1) (16516,) (5162, 4, 4, 3, 1) (5162,)\n"
          ],
          "name": "stdout"
        }
      ]
    },
    {
      "cell_type": "code",
      "metadata": {
        "scrolled": true,
        "id": "o1zIHKt6iy8M",
        "colab_type": "code",
        "colab": {}
      },
      "source": [
        "params = {'batch_size': 80, \n",
        "          'conv2d_layers': {'conv2d_do_1': 0.25, 'conv2d_filters_1': 32, 'conv2d_kernel_size_1': 3, \n",
        "                            'conv2d_mp_1': 0, 'conv2d_strides_1': 1, 'kernel_regularizer_1': 0.0, \n",
        "                            'conv2d_do_2': 0.5, 'conv2d_filters_2': 64, 'conv2d_kernel_size_2': 3,\n",
        "                            'conv2d_mp_2': 7, 'conv2d_strides_2': 1, 'kernel_regularizer_2': 0.0, \n",
        "                            'layers': 'two'},\n",
        "          'dense_layers': {'dense_do_1': 0.0, 'dense_nodes_1': 128, 'kernel_regularizer_1': 0.0, 'layers': 'one'},\n",
        "          'epochs': 3000, \n",
        "          'lr': 0.001, \n",
        "          'optimizer': 'adam'}"
      ],
      "execution_count": 49,
      "outputs": []
    },
    {
      "cell_type": "code",
      "metadata": {
        "scrolled": false,
        "id": "j-i9Qbu-iy8Q",
        "colab_type": "code",
        "colab": {}
      },
      "source": [
        "from tensorflow.keras.models import Sequential, load_model, Model\n",
        "from tensorflow.keras.layers import Dense, Dropout\n",
        "from tensorflow.keras.layers import Conv2D, MaxPool2D, Flatten\n",
        "from tensorflow.keras import optimizers\n",
        "from tensorflow.keras.initializers import RandomUniform, RandomNormal\n",
        "from tensorflow.keras.models import load_model\n",
        "from tensorflow.keras import regularizers\n",
        "\n",
        "def create_model_cnn(params):\n",
        "    model = Sequential()\n",
        "\n",
        "    print(\"Training with params {}\".format(params))\n",
        "    # (batch_size, timesteps, data_dim)\n",
        "    # x_train, y_train = get_data_cnn(df, df.head(1).iloc[0][\"timestamp\"])[0:2]\n",
        "    conv2d_layer1 = Conv2D(32,kernel_size=3,strides=1,activation=\"relu\",input_shape=(16,16,1))\n",
        "    model.add(conv2d_layer1)\n",
        "\n",
        "    conv2d_layer2 = Conv2D(64,kernel_size=3,strides=1,activation=\"relu\",input_shape=(16,16,1))\n",
        "    model.add(conv2d_layer2)\n",
        "\n",
        "    model.add(MaxPool2D(pool_size=2))\n",
        "\n",
        "    model.add(Dropout(0.25))\n",
        "\n",
        "    model.add(Flatten())\n",
        "\n",
        "    model.add(Dense(128, activation='relu'))\n",
        "    model.add(Dropout(0.5))\n",
        "\n",
        "    model.add(Dense(1, activation='softmax'))\n",
        "    \n",
        "    optimizer = optimizers.Adam(learning_rate=params[\"lr\"], beta_1=0.9, beta_2=0.999, amsgrad=False)\n",
        "        \n",
        "    model.compile(loss='categorical_crossentropy', optimizer=optimizer, metrics=['accuracy'])\n",
        "    return model\n",
        "  "
      ],
      "execution_count": 68,
      "outputs": []
    },
    {
      "cell_type": "code",
      "metadata": {
        "id": "u0rxPE5akIXf",
        "colab_type": "code",
        "colab": {}
      },
      "source": [
        "def train_model(model, xtrain, ytrain,checkpoint,stoppoint,batch_size,epochs):    \n",
        "    model.fit(xtrain, ytrain, batch_size = batch_size, epochs = epochs, validation_split= 0.3 , \n",
        "              callbacks=[checkpoint, stoppoint],verbose=1)\n",
        "    return model.history"
      ],
      "execution_count": 69,
      "outputs": []
    },
    {
      "cell_type": "code",
      "metadata": {
        "id": "FeLcN60_klR1",
        "colab_type": "code",
        "colab": {}
      },
      "source": [
        "def plotHistory(history):\n",
        "    # summarize history for accuracy\n",
        "    plt.plot(history.history['acc'])\n",
        "    plt.plot(history.history['val_acc'])\n",
        "    plt.title('model accuracy')\n",
        "    plt.ylabel('accuracy')\n",
        "    plt.xlabel('epoch')\n",
        "    plt.legend(['train', 'test'], loc='upper left')\n",
        "    plt.show()\n",
        "    # summarize history for loss\n",
        "    plt.plot(history.history['loss'])\n",
        "    plt.plot(history.history['val_loss'])\n",
        "    plt.title('model loss')\n",
        "    plt.ylabel('loss')\n",
        "    plt.xlabel('epoch')\n",
        "    plt.legend(['train', 'test'], loc='upper left')\n",
        "    plt.show()\n"
      ],
      "execution_count": 70,
      "outputs": []
    },
    {
      "cell_type": "code",
      "metadata": {
        "id": "7HLlKUmIkygf",
        "colab_type": "code",
        "colab": {}
      },
      "source": [
        "def plotMetrics(threshold, X_test_scaled, y_test):\n",
        "    model = load_model('model.h5')\n",
        "    y_pred = model.predict(X_test_scaled)\n",
        "    y_pred = (y_pred > threshold)\n",
        "    print(boldTextStart,'Accuracy:',boldTextEnd)\n",
        "    accuracy_model = accuracy_score(y_test, y_pred, normalize=True)*100\n",
        "    print(accuracy_model,' %')\n",
        "    print(boldTextStart,'Confusion Matrix:',boldTextEnd)\n",
        "    print(confusion_matrix(y_test,y_pred))\n",
        "    print(boldTextStart,'Classification Report:',boldTextEnd)\n",
        "    print(classification_report(y_test,y_pred))\n",
        "    auc = roc_auc_score(y_test,y_pred)\n",
        "    print(boldTextStart,'AUC Score: ',boldTextEnd, auc)"
      ],
      "execution_count": 53,
      "outputs": []
    },
    {
      "cell_type": "code",
      "metadata": {
        "id": "hND0KER5k1rj",
        "colab_type": "code",
        "colab": {
          "base_uri": "https://localhost:8080/",
          "height": 1000
        },
        "outputId": "18d8dfc2-d9c6-40e6-8629-d94757d5b11e"
      },
      "source": [
        "m = create_model_cnn(params)\n",
        "m.summary()\n",
        "history = m.fit(X_train, y_train, epochs=params['epochs'], verbose=0,\n",
        "                            batch_size=80, shuffle=True,\n",
        "                            #validation_split=0.3,\n",
        "                            #validation_data=(X_cv, y_cv),\n",
        "                            #callbacks=[mcp, rlp, es]\n",
        "                            #, sample_weight=sample_weights\n",
        "                )\n",
        "y_pred = m.predict(X_test)\n",
        "print(confusion_matrix(y_test,y_pred))\n",
        "accuracy = accuracy_score(y_test,y_pred)\n",
        "print(accuracy)\n",
        "#print('Plot feature importances...')\n",
        "#plot_importance(m, max_num_features=10)\n",
        "#auc = roc_auc_score(y_test,y_pred)\n",
        "#print('AUC: ', auc)"
      ],
      "execution_count": 71,
      "outputs": [
        {
          "output_type": "stream",
          "text": [
            "Training with params {'batch_size': 80, 'conv2d_layers': {'conv2d_do_1': 0.25, 'conv2d_filters_1': 32, 'conv2d_kernel_size_1': 3, 'conv2d_mp_1': 0, 'conv2d_strides_1': 1, 'kernel_regularizer_1': 0.0, 'conv2d_do_2': 0.5, 'conv2d_filters_2': 64, 'conv2d_kernel_size_2': 3, 'conv2d_mp_2': 7, 'conv2d_strides_2': 1, 'kernel_regularizer_2': 0.0, 'layers': 'two'}, 'dense_layers': {'dense_do_1': 0.0, 'dense_nodes_1': 128, 'kernel_regularizer_1': 0.0, 'layers': 'one'}, 'epochs': 3000, 'lr': 0.001, 'optimizer': 'adam'}\n",
            "Model: \"sequential_16\"\n",
            "_________________________________________________________________\n",
            "Layer (type)                 Output Shape              Param #   \n",
            "=================================================================\n",
            "conv2d_26 (Conv2D)           (None, 14, 14, 32)        320       \n",
            "_________________________________________________________________\n",
            "conv2d_27 (Conv2D)           (None, 12, 12, 64)        18496     \n",
            "_________________________________________________________________\n",
            "max_pooling2d_12 (MaxPooling (None, 6, 6, 64)          0         \n",
            "_________________________________________________________________\n",
            "dropout_24 (Dropout)         (None, 6, 6, 64)          0         \n",
            "_________________________________________________________________\n",
            "flatten_12 (Flatten)         (None, 2304)              0         \n",
            "_________________________________________________________________\n",
            "dense_24 (Dense)             (None, 128)               295040    \n",
            "_________________________________________________________________\n",
            "dropout_25 (Dropout)         (None, 128)               0         \n",
            "_________________________________________________________________\n",
            "dense_25 (Dense)             (None, 1)                 129       \n",
            "=================================================================\n",
            "Total params: 313,985\n",
            "Trainable params: 313,985\n",
            "Non-trainable params: 0\n",
            "_________________________________________________________________\n"
          ],
          "name": "stdout"
        },
        {
          "output_type": "error",
          "ename": "ValueError",
          "evalue": "ignored",
          "traceback": [
            "\u001b[0;31m---------------------------------------------------------------------------\u001b[0m",
            "\u001b[0;31mValueError\u001b[0m                                Traceback (most recent call last)",
            "\u001b[0;32m<ipython-input-71-cb5dbe0cf2e4>\u001b[0m in \u001b[0;36m<module>\u001b[0;34m()\u001b[0m\n\u001b[1;32m      2\u001b[0m \u001b[0mm\u001b[0m\u001b[0;34m.\u001b[0m\u001b[0msummary\u001b[0m\u001b[0;34m(\u001b[0m\u001b[0;34m)\u001b[0m\u001b[0;34m\u001b[0m\u001b[0;34m\u001b[0m\u001b[0m\n\u001b[1;32m      3\u001b[0m history = m.fit(X_train, y_train, epochs=params['epochs'], verbose=0,\n\u001b[0;32m----> 4\u001b[0;31m                             \u001b[0mbatch_size\u001b[0m\u001b[0;34m=\u001b[0m\u001b[0;36m80\u001b[0m\u001b[0;34m,\u001b[0m \u001b[0mshuffle\u001b[0m\u001b[0;34m=\u001b[0m\u001b[0;32mTrue\u001b[0m\u001b[0;34m,\u001b[0m\u001b[0;34m\u001b[0m\u001b[0;34m\u001b[0m\u001b[0m\n\u001b[0m\u001b[1;32m      5\u001b[0m                             \u001b[0;31m#validation_split=0.3,\u001b[0m\u001b[0;34m\u001b[0m\u001b[0;34m\u001b[0m\u001b[0;34m\u001b[0m\u001b[0m\n\u001b[1;32m      6\u001b[0m                             \u001b[0;31m#validation_data=(X_cv, y_cv),\u001b[0m\u001b[0;34m\u001b[0m\u001b[0;34m\u001b[0m\u001b[0;34m\u001b[0m\u001b[0m\n",
            "\u001b[0;32m/usr/local/lib/python3.6/dist-packages/tensorflow/python/keras/engine/training.py\u001b[0m in \u001b[0;36m_method_wrapper\u001b[0;34m(self, *args, **kwargs)\u001b[0m\n\u001b[1;32m     64\u001b[0m   \u001b[0;32mdef\u001b[0m \u001b[0m_method_wrapper\u001b[0m\u001b[0;34m(\u001b[0m\u001b[0mself\u001b[0m\u001b[0;34m,\u001b[0m \u001b[0;34m*\u001b[0m\u001b[0margs\u001b[0m\u001b[0;34m,\u001b[0m \u001b[0;34m**\u001b[0m\u001b[0mkwargs\u001b[0m\u001b[0;34m)\u001b[0m\u001b[0;34m:\u001b[0m\u001b[0;34m\u001b[0m\u001b[0;34m\u001b[0m\u001b[0m\n\u001b[1;32m     65\u001b[0m     \u001b[0;32mif\u001b[0m \u001b[0;32mnot\u001b[0m \u001b[0mself\u001b[0m\u001b[0;34m.\u001b[0m\u001b[0m_in_multi_worker_mode\u001b[0m\u001b[0;34m(\u001b[0m\u001b[0;34m)\u001b[0m\u001b[0;34m:\u001b[0m  \u001b[0;31m# pylint: disable=protected-access\u001b[0m\u001b[0;34m\u001b[0m\u001b[0;34m\u001b[0m\u001b[0m\n\u001b[0;32m---> 66\u001b[0;31m       \u001b[0;32mreturn\u001b[0m \u001b[0mmethod\u001b[0m\u001b[0;34m(\u001b[0m\u001b[0mself\u001b[0m\u001b[0;34m,\u001b[0m \u001b[0;34m*\u001b[0m\u001b[0margs\u001b[0m\u001b[0;34m,\u001b[0m \u001b[0;34m**\u001b[0m\u001b[0mkwargs\u001b[0m\u001b[0;34m)\u001b[0m\u001b[0;34m\u001b[0m\u001b[0;34m\u001b[0m\u001b[0m\n\u001b[0m\u001b[1;32m     67\u001b[0m \u001b[0;34m\u001b[0m\u001b[0m\n\u001b[1;32m     68\u001b[0m     \u001b[0;31m# Running inside `run_distribute_coordinator` already.\u001b[0m\u001b[0;34m\u001b[0m\u001b[0;34m\u001b[0m\u001b[0;34m\u001b[0m\u001b[0m\n",
            "\u001b[0;32m/usr/local/lib/python3.6/dist-packages/tensorflow/python/keras/engine/training.py\u001b[0m in \u001b[0;36mfit\u001b[0;34m(self, x, y, batch_size, epochs, verbose, callbacks, validation_split, validation_data, shuffle, class_weight, sample_weight, initial_epoch, steps_per_epoch, validation_steps, validation_batch_size, validation_freq, max_queue_size, workers, use_multiprocessing)\u001b[0m\n\u001b[1;32m    846\u001b[0m                 batch_size=batch_size):\n\u001b[1;32m    847\u001b[0m               \u001b[0mcallbacks\u001b[0m\u001b[0;34m.\u001b[0m\u001b[0mon_train_batch_begin\u001b[0m\u001b[0;34m(\u001b[0m\u001b[0mstep\u001b[0m\u001b[0;34m)\u001b[0m\u001b[0;34m\u001b[0m\u001b[0;34m\u001b[0m\u001b[0m\n\u001b[0;32m--> 848\u001b[0;31m               \u001b[0mtmp_logs\u001b[0m \u001b[0;34m=\u001b[0m \u001b[0mtrain_function\u001b[0m\u001b[0;34m(\u001b[0m\u001b[0miterator\u001b[0m\u001b[0;34m)\u001b[0m\u001b[0;34m\u001b[0m\u001b[0;34m\u001b[0m\u001b[0m\n\u001b[0m\u001b[1;32m    849\u001b[0m               \u001b[0;31m# Catch OutOfRangeError for Datasets of unknown size.\u001b[0m\u001b[0;34m\u001b[0m\u001b[0;34m\u001b[0m\u001b[0;34m\u001b[0m\u001b[0m\n\u001b[1;32m    850\u001b[0m               \u001b[0;31m# This blocks until the batch has finished executing.\u001b[0m\u001b[0;34m\u001b[0m\u001b[0;34m\u001b[0m\u001b[0;34m\u001b[0m\u001b[0m\n",
            "\u001b[0;32m/usr/local/lib/python3.6/dist-packages/tensorflow/python/eager/def_function.py\u001b[0m in \u001b[0;36m__call__\u001b[0;34m(self, *args, **kwds)\u001b[0m\n\u001b[1;32m    578\u001b[0m         \u001b[0mxla_context\u001b[0m\u001b[0;34m.\u001b[0m\u001b[0mExit\u001b[0m\u001b[0;34m(\u001b[0m\u001b[0;34m)\u001b[0m\u001b[0;34m\u001b[0m\u001b[0;34m\u001b[0m\u001b[0m\n\u001b[1;32m    579\u001b[0m     \u001b[0;32melse\u001b[0m\u001b[0;34m:\u001b[0m\u001b[0;34m\u001b[0m\u001b[0;34m\u001b[0m\u001b[0m\n\u001b[0;32m--> 580\u001b[0;31m       \u001b[0mresult\u001b[0m \u001b[0;34m=\u001b[0m \u001b[0mself\u001b[0m\u001b[0;34m.\u001b[0m\u001b[0m_call\u001b[0m\u001b[0;34m(\u001b[0m\u001b[0;34m*\u001b[0m\u001b[0margs\u001b[0m\u001b[0;34m,\u001b[0m \u001b[0;34m**\u001b[0m\u001b[0mkwds\u001b[0m\u001b[0;34m)\u001b[0m\u001b[0;34m\u001b[0m\u001b[0;34m\u001b[0m\u001b[0m\n\u001b[0m\u001b[1;32m    581\u001b[0m \u001b[0;34m\u001b[0m\u001b[0m\n\u001b[1;32m    582\u001b[0m     \u001b[0;32mif\u001b[0m \u001b[0mtracing_count\u001b[0m \u001b[0;34m==\u001b[0m \u001b[0mself\u001b[0m\u001b[0;34m.\u001b[0m\u001b[0m_get_tracing_count\u001b[0m\u001b[0;34m(\u001b[0m\u001b[0;34m)\u001b[0m\u001b[0;34m:\u001b[0m\u001b[0;34m\u001b[0m\u001b[0;34m\u001b[0m\u001b[0m\n",
            "\u001b[0;32m/usr/local/lib/python3.6/dist-packages/tensorflow/python/eager/def_function.py\u001b[0m in \u001b[0;36m_call\u001b[0;34m(self, *args, **kwds)\u001b[0m\n\u001b[1;32m    625\u001b[0m       \u001b[0;31m# This is the first call of __call__, so we have to initialize.\u001b[0m\u001b[0;34m\u001b[0m\u001b[0;34m\u001b[0m\u001b[0;34m\u001b[0m\u001b[0m\n\u001b[1;32m    626\u001b[0m       \u001b[0minitializers\u001b[0m \u001b[0;34m=\u001b[0m \u001b[0;34m[\u001b[0m\u001b[0;34m]\u001b[0m\u001b[0;34m\u001b[0m\u001b[0;34m\u001b[0m\u001b[0m\n\u001b[0;32m--> 627\u001b[0;31m       \u001b[0mself\u001b[0m\u001b[0;34m.\u001b[0m\u001b[0m_initialize\u001b[0m\u001b[0;34m(\u001b[0m\u001b[0margs\u001b[0m\u001b[0;34m,\u001b[0m \u001b[0mkwds\u001b[0m\u001b[0;34m,\u001b[0m \u001b[0madd_initializers_to\u001b[0m\u001b[0;34m=\u001b[0m\u001b[0minitializers\u001b[0m\u001b[0;34m)\u001b[0m\u001b[0;34m\u001b[0m\u001b[0;34m\u001b[0m\u001b[0m\n\u001b[0m\u001b[1;32m    628\u001b[0m     \u001b[0;32mfinally\u001b[0m\u001b[0;34m:\u001b[0m\u001b[0;34m\u001b[0m\u001b[0;34m\u001b[0m\u001b[0m\n\u001b[1;32m    629\u001b[0m       \u001b[0;31m# At this point we know that the initialization is complete (or less\u001b[0m\u001b[0;34m\u001b[0m\u001b[0;34m\u001b[0m\u001b[0;34m\u001b[0m\u001b[0m\n",
            "\u001b[0;32m/usr/local/lib/python3.6/dist-packages/tensorflow/python/eager/def_function.py\u001b[0m in \u001b[0;36m_initialize\u001b[0;34m(self, args, kwds, add_initializers_to)\u001b[0m\n\u001b[1;32m    504\u001b[0m     self._concrete_stateful_fn = (\n\u001b[1;32m    505\u001b[0m         self._stateful_fn._get_concrete_function_internal_garbage_collected(  # pylint: disable=protected-access\n\u001b[0;32m--> 506\u001b[0;31m             *args, **kwds))\n\u001b[0m\u001b[1;32m    507\u001b[0m \u001b[0;34m\u001b[0m\u001b[0m\n\u001b[1;32m    508\u001b[0m     \u001b[0;32mdef\u001b[0m \u001b[0minvalid_creator_scope\u001b[0m\u001b[0;34m(\u001b[0m\u001b[0;34m*\u001b[0m\u001b[0munused_args\u001b[0m\u001b[0;34m,\u001b[0m \u001b[0;34m**\u001b[0m\u001b[0munused_kwds\u001b[0m\u001b[0;34m)\u001b[0m\u001b[0;34m:\u001b[0m\u001b[0;34m\u001b[0m\u001b[0;34m\u001b[0m\u001b[0m\n",
            "\u001b[0;32m/usr/local/lib/python3.6/dist-packages/tensorflow/python/eager/function.py\u001b[0m in \u001b[0;36m_get_concrete_function_internal_garbage_collected\u001b[0;34m(self, *args, **kwargs)\u001b[0m\n\u001b[1;32m   2444\u001b[0m       \u001b[0margs\u001b[0m\u001b[0;34m,\u001b[0m \u001b[0mkwargs\u001b[0m \u001b[0;34m=\u001b[0m \u001b[0;32mNone\u001b[0m\u001b[0;34m,\u001b[0m \u001b[0;32mNone\u001b[0m\u001b[0;34m\u001b[0m\u001b[0;34m\u001b[0m\u001b[0m\n\u001b[1;32m   2445\u001b[0m     \u001b[0;32mwith\u001b[0m \u001b[0mself\u001b[0m\u001b[0;34m.\u001b[0m\u001b[0m_lock\u001b[0m\u001b[0;34m:\u001b[0m\u001b[0;34m\u001b[0m\u001b[0;34m\u001b[0m\u001b[0m\n\u001b[0;32m-> 2446\u001b[0;31m       \u001b[0mgraph_function\u001b[0m\u001b[0;34m,\u001b[0m \u001b[0m_\u001b[0m\u001b[0;34m,\u001b[0m \u001b[0m_\u001b[0m \u001b[0;34m=\u001b[0m \u001b[0mself\u001b[0m\u001b[0;34m.\u001b[0m\u001b[0m_maybe_define_function\u001b[0m\u001b[0;34m(\u001b[0m\u001b[0margs\u001b[0m\u001b[0;34m,\u001b[0m \u001b[0mkwargs\u001b[0m\u001b[0;34m)\u001b[0m\u001b[0;34m\u001b[0m\u001b[0;34m\u001b[0m\u001b[0m\n\u001b[0m\u001b[1;32m   2447\u001b[0m     \u001b[0;32mreturn\u001b[0m \u001b[0mgraph_function\u001b[0m\u001b[0;34m\u001b[0m\u001b[0;34m\u001b[0m\u001b[0m\n\u001b[1;32m   2448\u001b[0m \u001b[0;34m\u001b[0m\u001b[0m\n",
            "\u001b[0;32m/usr/local/lib/python3.6/dist-packages/tensorflow/python/eager/function.py\u001b[0m in \u001b[0;36m_maybe_define_function\u001b[0;34m(self, args, kwargs)\u001b[0m\n\u001b[1;32m   2775\u001b[0m \u001b[0;34m\u001b[0m\u001b[0m\n\u001b[1;32m   2776\u001b[0m       \u001b[0mself\u001b[0m\u001b[0;34m.\u001b[0m\u001b[0m_function_cache\u001b[0m\u001b[0;34m.\u001b[0m\u001b[0mmissed\u001b[0m\u001b[0;34m.\u001b[0m\u001b[0madd\u001b[0m\u001b[0;34m(\u001b[0m\u001b[0mcall_context_key\u001b[0m\u001b[0;34m)\u001b[0m\u001b[0;34m\u001b[0m\u001b[0;34m\u001b[0m\u001b[0m\n\u001b[0;32m-> 2777\u001b[0;31m       \u001b[0mgraph_function\u001b[0m \u001b[0;34m=\u001b[0m \u001b[0mself\u001b[0m\u001b[0;34m.\u001b[0m\u001b[0m_create_graph_function\u001b[0m\u001b[0;34m(\u001b[0m\u001b[0margs\u001b[0m\u001b[0;34m,\u001b[0m \u001b[0mkwargs\u001b[0m\u001b[0;34m)\u001b[0m\u001b[0;34m\u001b[0m\u001b[0;34m\u001b[0m\u001b[0m\n\u001b[0m\u001b[1;32m   2778\u001b[0m       \u001b[0mself\u001b[0m\u001b[0;34m.\u001b[0m\u001b[0m_function_cache\u001b[0m\u001b[0;34m.\u001b[0m\u001b[0mprimary\u001b[0m\u001b[0;34m[\u001b[0m\u001b[0mcache_key\u001b[0m\u001b[0;34m]\u001b[0m \u001b[0;34m=\u001b[0m \u001b[0mgraph_function\u001b[0m\u001b[0;34m\u001b[0m\u001b[0;34m\u001b[0m\u001b[0m\n\u001b[1;32m   2779\u001b[0m       \u001b[0;32mreturn\u001b[0m \u001b[0mgraph_function\u001b[0m\u001b[0;34m,\u001b[0m \u001b[0margs\u001b[0m\u001b[0;34m,\u001b[0m \u001b[0mkwargs\u001b[0m\u001b[0;34m\u001b[0m\u001b[0;34m\u001b[0m\u001b[0m\n",
            "\u001b[0;32m/usr/local/lib/python3.6/dist-packages/tensorflow/python/eager/function.py\u001b[0m in \u001b[0;36m_create_graph_function\u001b[0;34m(self, args, kwargs, override_flat_arg_shapes)\u001b[0m\n\u001b[1;32m   2665\u001b[0m             \u001b[0marg_names\u001b[0m\u001b[0;34m=\u001b[0m\u001b[0marg_names\u001b[0m\u001b[0;34m,\u001b[0m\u001b[0;34m\u001b[0m\u001b[0;34m\u001b[0m\u001b[0m\n\u001b[1;32m   2666\u001b[0m             \u001b[0moverride_flat_arg_shapes\u001b[0m\u001b[0;34m=\u001b[0m\u001b[0moverride_flat_arg_shapes\u001b[0m\u001b[0;34m,\u001b[0m\u001b[0;34m\u001b[0m\u001b[0;34m\u001b[0m\u001b[0m\n\u001b[0;32m-> 2667\u001b[0;31m             capture_by_value=self._capture_by_value),\n\u001b[0m\u001b[1;32m   2668\u001b[0m         \u001b[0mself\u001b[0m\u001b[0;34m.\u001b[0m\u001b[0m_function_attributes\u001b[0m\u001b[0;34m,\u001b[0m\u001b[0;34m\u001b[0m\u001b[0;34m\u001b[0m\u001b[0m\n\u001b[1;32m   2669\u001b[0m         \u001b[0;31m# Tell the ConcreteFunction to clean up its graph once it goes out of\u001b[0m\u001b[0;34m\u001b[0m\u001b[0;34m\u001b[0m\u001b[0;34m\u001b[0m\u001b[0m\n",
            "\u001b[0;32m/usr/local/lib/python3.6/dist-packages/tensorflow/python/framework/func_graph.py\u001b[0m in \u001b[0;36mfunc_graph_from_py_func\u001b[0;34m(name, python_func, args, kwargs, signature, func_graph, autograph, autograph_options, add_control_dependencies, arg_names, op_return_value, collections, capture_by_value, override_flat_arg_shapes)\u001b[0m\n\u001b[1;32m    979\u001b[0m         \u001b[0m_\u001b[0m\u001b[0;34m,\u001b[0m \u001b[0moriginal_func\u001b[0m \u001b[0;34m=\u001b[0m \u001b[0mtf_decorator\u001b[0m\u001b[0;34m.\u001b[0m\u001b[0munwrap\u001b[0m\u001b[0;34m(\u001b[0m\u001b[0mpython_func\u001b[0m\u001b[0;34m)\u001b[0m\u001b[0;34m\u001b[0m\u001b[0;34m\u001b[0m\u001b[0m\n\u001b[1;32m    980\u001b[0m \u001b[0;34m\u001b[0m\u001b[0m\n\u001b[0;32m--> 981\u001b[0;31m       \u001b[0mfunc_outputs\u001b[0m \u001b[0;34m=\u001b[0m \u001b[0mpython_func\u001b[0m\u001b[0;34m(\u001b[0m\u001b[0;34m*\u001b[0m\u001b[0mfunc_args\u001b[0m\u001b[0;34m,\u001b[0m \u001b[0;34m**\u001b[0m\u001b[0mfunc_kwargs\u001b[0m\u001b[0;34m)\u001b[0m\u001b[0;34m\u001b[0m\u001b[0;34m\u001b[0m\u001b[0m\n\u001b[0m\u001b[1;32m    982\u001b[0m \u001b[0;34m\u001b[0m\u001b[0m\n\u001b[1;32m    983\u001b[0m       \u001b[0;31m# invariant: `func_outputs` contains only Tensors, CompositeTensors,\u001b[0m\u001b[0;34m\u001b[0m\u001b[0;34m\u001b[0m\u001b[0;34m\u001b[0m\u001b[0m\n",
            "\u001b[0;32m/usr/local/lib/python3.6/dist-packages/tensorflow/python/eager/def_function.py\u001b[0m in \u001b[0;36mwrapped_fn\u001b[0;34m(*args, **kwds)\u001b[0m\n\u001b[1;32m    439\u001b[0m         \u001b[0;31m# __wrapped__ allows AutoGraph to swap in a converted function. We give\u001b[0m\u001b[0;34m\u001b[0m\u001b[0;34m\u001b[0m\u001b[0;34m\u001b[0m\u001b[0m\n\u001b[1;32m    440\u001b[0m         \u001b[0;31m# the function a weak reference to itself to avoid a reference cycle.\u001b[0m\u001b[0;34m\u001b[0m\u001b[0;34m\u001b[0m\u001b[0;34m\u001b[0m\u001b[0m\n\u001b[0;32m--> 441\u001b[0;31m         \u001b[0;32mreturn\u001b[0m \u001b[0mweak_wrapped_fn\u001b[0m\u001b[0;34m(\u001b[0m\u001b[0;34m)\u001b[0m\u001b[0;34m.\u001b[0m\u001b[0m__wrapped__\u001b[0m\u001b[0;34m(\u001b[0m\u001b[0;34m*\u001b[0m\u001b[0margs\u001b[0m\u001b[0;34m,\u001b[0m \u001b[0;34m**\u001b[0m\u001b[0mkwds\u001b[0m\u001b[0;34m)\u001b[0m\u001b[0;34m\u001b[0m\u001b[0;34m\u001b[0m\u001b[0m\n\u001b[0m\u001b[1;32m    442\u001b[0m     \u001b[0mweak_wrapped_fn\u001b[0m \u001b[0;34m=\u001b[0m \u001b[0mweakref\u001b[0m\u001b[0;34m.\u001b[0m\u001b[0mref\u001b[0m\u001b[0;34m(\u001b[0m\u001b[0mwrapped_fn\u001b[0m\u001b[0;34m)\u001b[0m\u001b[0;34m\u001b[0m\u001b[0;34m\u001b[0m\u001b[0m\n\u001b[1;32m    443\u001b[0m \u001b[0;34m\u001b[0m\u001b[0m\n",
            "\u001b[0;32m/usr/local/lib/python3.6/dist-packages/tensorflow/python/framework/func_graph.py\u001b[0m in \u001b[0;36mwrapper\u001b[0;34m(*args, **kwargs)\u001b[0m\n\u001b[1;32m    966\u001b[0m           \u001b[0;32mexcept\u001b[0m \u001b[0mException\u001b[0m \u001b[0;32mas\u001b[0m \u001b[0me\u001b[0m\u001b[0;34m:\u001b[0m  \u001b[0;31m# pylint:disable=broad-except\u001b[0m\u001b[0;34m\u001b[0m\u001b[0;34m\u001b[0m\u001b[0m\n\u001b[1;32m    967\u001b[0m             \u001b[0;32mif\u001b[0m \u001b[0mhasattr\u001b[0m\u001b[0;34m(\u001b[0m\u001b[0me\u001b[0m\u001b[0;34m,\u001b[0m \u001b[0;34m\"ag_error_metadata\"\u001b[0m\u001b[0;34m)\u001b[0m\u001b[0;34m:\u001b[0m\u001b[0;34m\u001b[0m\u001b[0;34m\u001b[0m\u001b[0m\n\u001b[0;32m--> 968\u001b[0;31m               \u001b[0;32mraise\u001b[0m \u001b[0me\u001b[0m\u001b[0;34m.\u001b[0m\u001b[0mag_error_metadata\u001b[0m\u001b[0;34m.\u001b[0m\u001b[0mto_exception\u001b[0m\u001b[0;34m(\u001b[0m\u001b[0me\u001b[0m\u001b[0;34m)\u001b[0m\u001b[0;34m\u001b[0m\u001b[0;34m\u001b[0m\u001b[0m\n\u001b[0m\u001b[1;32m    969\u001b[0m             \u001b[0;32melse\u001b[0m\u001b[0;34m:\u001b[0m\u001b[0;34m\u001b[0m\u001b[0;34m\u001b[0m\u001b[0m\n\u001b[1;32m    970\u001b[0m               \u001b[0;32mraise\u001b[0m\u001b[0;34m\u001b[0m\u001b[0;34m\u001b[0m\u001b[0m\n",
            "\u001b[0;31mValueError\u001b[0m: in user code:\n\n    /usr/local/lib/python3.6/dist-packages/tensorflow/python/keras/engine/training.py:571 train_function  *\n        outputs = self.distribute_strategy.run(\n    /usr/local/lib/python3.6/dist-packages/tensorflow/python/distribute/distribute_lib.py:951 run  **\n        return self._extended.call_for_each_replica(fn, args=args, kwargs=kwargs)\n    /usr/local/lib/python3.6/dist-packages/tensorflow/python/distribute/distribute_lib.py:2290 call_for_each_replica\n        return self._call_for_each_replica(fn, args, kwargs)\n    /usr/local/lib/python3.6/dist-packages/tensorflow/python/distribute/distribute_lib.py:2649 _call_for_each_replica\n        return fn(*args, **kwargs)\n    /usr/local/lib/python3.6/dist-packages/tensorflow/python/keras/engine/training.py:531 train_step  **\n        y_pred = self(x, training=True)\n    /usr/local/lib/python3.6/dist-packages/tensorflow/python/keras/engine/base_layer.py:886 __call__\n        self.name)\n    /usr/local/lib/python3.6/dist-packages/tensorflow/python/keras/engine/input_spec.py:180 assert_input_compatibility\n        str(x.shape.as_list()))\n\n    ValueError: Input 0 of layer sequential_16 is incompatible with the layer: expected ndim=4, found ndim=5. Full shape received: [None, 4, 4, 3, 1]\n"
          ]
        }
      ]
    },
    {
      "cell_type": "code",
      "metadata": {
        "id": "o0i1uyZsq1jz",
        "colab_type": "code",
        "colab": {}
      },
      "source": [
        ""
      ],
      "execution_count": null,
      "outputs": []
    }
  ]
}